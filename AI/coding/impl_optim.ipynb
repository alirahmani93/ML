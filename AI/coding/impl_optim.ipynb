{
 "cells": [
  {
   "cell_type": "code",
   "execution_count": 43,
   "id": "initial_id",
   "metadata": {
    "collapsed": true,
    "ExecuteTime": {
     "end_time": "2024-01-11T09:55:14.423151348Z",
     "start_time": "2024-01-11T09:55:14.417844509Z"
    }
   },
   "outputs": [],
   "source": [
    "import torch\n",
    "from torch import nn\n",
    "from torchvision import datasets,transforms"
   ]
  },
  {
   "cell_type": "code",
   "execution_count": 42,
   "outputs": [
    {
     "name": "stdout",
     "output_type": "stream",
     "text": [
      "Collecting torchvision\r\n",
      "  Obtaining dependency information for torchvision from https://files.pythonhosted.org/packages/6e/c8/cf445dcf86daf1aed298061ad14b8d335fa594596aeaa6b951231328ffd1/torchvision-0.16.2-cp311-cp311-manylinux1_x86_64.whl.metadata\r\n",
      "  Downloading torchvision-0.16.2-cp311-cp311-manylinux1_x86_64.whl.metadata (6.6 kB)\r\n",
      "Requirement already satisfied: numpy in /home/rahmani/work/envs/ML/lib/python3.11/site-packages (from torchvision) (1.25.2)\r\n",
      "Requirement already satisfied: requests in /home/rahmani/work/envs/ML/lib/python3.11/site-packages (from torchvision) (2.31.0)\r\n",
      "Requirement already satisfied: torch==2.1.2 in /home/rahmani/work/envs/ML/lib/python3.11/site-packages (from torchvision) (2.1.2+cpu)\r\n",
      "Requirement already satisfied: pillow!=8.3.*,>=5.3.0 in /home/rahmani/work/envs/ML/lib/python3.11/site-packages (from torchvision) (9.5.0)\r\n",
      "Requirement already satisfied: filelock in /home/rahmani/work/envs/ML/lib/python3.11/site-packages (from torch==2.1.2->torchvision) (3.12.4)\r\n",
      "Requirement already satisfied: typing-extensions in /home/rahmani/work/envs/ML/lib/python3.11/site-packages (from torch==2.1.2->torchvision) (4.8.0)\r\n",
      "Requirement already satisfied: sympy in /home/rahmani/work/envs/ML/lib/python3.11/site-packages (from torch==2.1.2->torchvision) (1.12)\r\n",
      "Requirement already satisfied: networkx in /home/rahmani/work/envs/ML/lib/python3.11/site-packages (from torch==2.1.2->torchvision) (3.0)\r\n",
      "Requirement already satisfied: jinja2 in /home/rahmani/work/envs/ML/lib/python3.11/site-packages (from torch==2.1.2->torchvision) (3.1.2)\r\n",
      "Requirement already satisfied: fsspec in /home/rahmani/work/envs/ML/lib/python3.11/site-packages (from torch==2.1.2->torchvision) (2023.4.0)\r\n",
      "Requirement already satisfied: charset-normalizer<4,>=2 in /home/rahmani/work/envs/ML/lib/python3.11/site-packages (from requests->torchvision) (3.2.0)\r\n",
      "Requirement already satisfied: idna<4,>=2.5 in /home/rahmani/work/envs/ML/lib/python3.11/site-packages (from requests->torchvision) (2.10)\r\n",
      "Requirement already satisfied: urllib3<3,>=1.21.1 in /home/rahmani/work/envs/ML/lib/python3.11/site-packages (from requests->torchvision) (2.0.4)\r\n",
      "Requirement already satisfied: certifi>=2017.4.17 in /home/rahmani/work/envs/ML/lib/python3.11/site-packages (from requests->torchvision) (2023.7.22)\r\n",
      "Requirement already satisfied: MarkupSafe>=2.0 in /home/rahmani/work/envs/ML/lib/python3.11/site-packages (from jinja2->torch==2.1.2->torchvision) (2.1.3)\r\n",
      "Requirement already satisfied: mpmath>=0.19 in /home/rahmani/work/envs/ML/lib/python3.11/site-packages (from sympy->torch==2.1.2->torchvision) (1.3.0)\r\n",
      "Downloading torchvision-0.16.2-cp311-cp311-manylinux1_x86_64.whl (6.8 MB)\r\n",
      "\u001B[2K   \u001B[90m━━━━━━━━━━━━━━━━━━━━━━━━━━━━━━━━━━━━━━━━\u001B[0m \u001B[32m6.8/6.8 MB\u001B[0m \u001B[31m61.4 kB/s\u001B[0m eta \u001B[36m0:00:00\u001B[0m00:01\u001B[0m00:04\u001B[0mm\r\n",
      "\u001B[?25hInstalling collected packages: torchvision\r\n",
      "Successfully installed torchvision-0.16.2\r\n",
      "\r\n",
      "\u001B[1m[\u001B[0m\u001B[34;49mnotice\u001B[0m\u001B[1;39;49m]\u001B[0m\u001B[39;49m A new release of pip is available: \u001B[0m\u001B[31;49m23.2\u001B[0m\u001B[39;49m -> \u001B[0m\u001B[32;49m23.3.2\u001B[0m\r\n",
      "\u001B[1m[\u001B[0m\u001B[34;49mnotice\u001B[0m\u001B[1;39;49m]\u001B[0m\u001B[39;49m To update, run: \u001B[0m\u001B[32;49mpip install --upgrade pip\u001B[0m\r\n"
     ]
    }
   ],
   "source": [
    "!pip install torchvision "
   ],
   "metadata": {
    "collapsed": false,
    "ExecuteTime": {
     "end_time": "2024-01-11T09:55:06.230768925Z",
     "start_time": "2024-01-11T09:54:21.089994508Z"
    }
   },
   "id": "7c3037e2ea48ccee"
  },
  {
   "cell_type": "code",
   "execution_count": 45,
   "outputs": [],
   "source": [
    "# train_set = datasets.MNIST(root='./data',train=True,download=True,transform=transforms.ToTensor())\n",
    "train_set = torch.randn(size=(10000, 728))\n",
    "test_set = torch.randn(size=(100, 728))\n",
    "\n",
    "# test_set"
   ],
   "metadata": {
    "collapsed": false,
    "ExecuteTime": {
     "end_time": "2024-01-11T09:56:06.377386453Z",
     "start_time": "2024-01-11T09:56:06.326333355Z"
    }
   },
   "id": "d8a8ae3be680bbbf"
  },
  {
   "cell_type": "code",
   "execution_count": 21,
   "outputs": [],
   "source": [
    "class MyLinear(nn.Linear):\n",
    "    pass"
   ],
   "metadata": {
    "collapsed": false,
    "ExecuteTime": {
     "end_time": "2024-01-11T09:06:34.297104665Z",
     "start_time": "2024-01-11T09:06:34.253488711Z"
    }
   },
   "id": "bc4ae253b2c3e367"
  },
  {
   "cell_type": "code",
   "execution_count": null,
   "outputs": [],
   "source": [
    "model = MyLinear()"
   ],
   "metadata": {
    "collapsed": false
   },
   "id": "f6ffa776a7d29a95"
  },
  {
   "cell_type": "code",
   "execution_count": 3,
   "outputs": [
    {
     "ename": "NameError",
     "evalue": "name 'train_set' is not defined",
     "output_type": "error",
     "traceback": [
      "\u001B[0;31m---------------------------------------------------------------------------\u001B[0m",
      "\u001B[0;31mNameError\u001B[0m                                 Traceback (most recent call last)",
      "Cell \u001B[0;32mIn[3], line 1\u001B[0m\n\u001B[0;32m----> 1\u001B[0m \u001B[43mtrain_set\u001B[49m\n",
      "\u001B[0;31mNameError\u001B[0m: name 'train_set' is not defined"
     ]
    }
   ],
   "source": [
    "class SGD:\n",
    "    def __init__(self, model_params, lr=1e-3):\n",
    "        self.model_params = list(model_params)\n",
    "        self.lr = lr\n",
    "\n",
    "    def zero_grad(self):\n",
    "        for param in self.model_params:\n",
    "            param.grad = None\n",
    "\n",
    "    @torch.no_grad()  # تمام محاسبات داخلی به گراف گراد اضافه ننننننمی شوند\n",
    "    def step(self):\n",
    "        for param in self.model_params:\n",
    "            param.sub_(self.lr * param.grad)\n",
    "            \n",
    "optimizer = SGD(model.parameters())"
   ],
   "metadata": {
    "collapsed": false,
    "ExecuteTime": {
     "end_time": "2024-01-11T08:23:48.494232770Z",
     "start_time": "2024-01-11T08:23:48.449468966Z"
    }
   },
   "id": "af9305dbc3b9d6b0"
  }
 ],
 "metadata": {
  "kernelspec": {
   "display_name": "Python 3",
   "language": "python",
   "name": "python3"
  },
  "language_info": {
   "codemirror_mode": {
    "name": "ipython",
    "version": 2
   },
   "file_extension": ".py",
   "mimetype": "text/x-python",
   "name": "python",
   "nbconvert_exporter": "python",
   "pygments_lexer": "ipython2",
   "version": "2.7.6"
  }
 },
 "nbformat": 4,
 "nbformat_minor": 5
}
