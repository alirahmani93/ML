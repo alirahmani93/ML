{
 "cells": [
  {
   "cell_type": "code",
   "execution_count": 95,
   "id": "initial_id",
   "metadata": {
    "collapsed": true,
    "ExecuteTime": {
     "end_time": "2024-01-19T09:47:00.073311243Z",
     "start_time": "2024-01-19T09:47:00.058545562Z"
    }
   },
   "outputs": [],
   "source": [
    "import pandas as pd\n",
    "import numpy as np\n",
    "import matplotlib.pyplot as plt\n",
    "import torch\n",
    "import torchvision"
   ]
  },
  {
   "cell_type": "code",
   "execution_count": null,
   "outputs": [],
   "source": [],
   "metadata": {
    "collapsed": false
   },
   "id": "7873d38de4471df0"
  },
  {
   "cell_type": "code",
   "execution_count": 159,
   "outputs": [
    {
     "data": {
      "text/plain": "    Car_Name  Year  Selling_Price  Present_Price  Kms_Driven Fuel_Type  \\\n0       ritz  2014           3.35           5.59       27000    Petrol   \n1        sx4  2013           4.75           9.54       43000    Diesel   \n2       ciaz  2017           7.25           9.85        6900    Petrol   \n3    wagon r  2011           2.85           4.15        5200    Petrol   \n4      swift  2014           4.60           6.87       42450    Diesel   \n..       ...   ...            ...            ...         ...       ...   \n296     city  2016           9.50          11.60       33988    Diesel   \n297     brio  2015           4.00           5.90       60000    Petrol   \n298     city  2009           3.35          11.00       87934    Petrol   \n299     city  2017          11.50          12.50        9000    Diesel   \n300     brio  2016           5.30           5.90        5464    Petrol   \n\n    Seller_Type Transmission  Owner  \n0        Dealer       Manual      0  \n1        Dealer       Manual      0  \n2        Dealer       Manual      0  \n3        Dealer       Manual      0  \n4        Dealer       Manual      0  \n..          ...          ...    ...  \n296      Dealer       Manual      0  \n297      Dealer       Manual      0  \n298      Dealer       Manual      0  \n299      Dealer       Manual      0  \n300      Dealer       Manual      0  \n\n[301 rows x 9 columns]",
      "text/html": "<div>\n<style scoped>\n    .dataframe tbody tr th:only-of-type {\n        vertical-align: middle;\n    }\n\n    .dataframe tbody tr th {\n        vertical-align: top;\n    }\n\n    .dataframe thead th {\n        text-align: right;\n    }\n</style>\n<table border=\"1\" class=\"dataframe\">\n  <thead>\n    <tr style=\"text-align: right;\">\n      <th></th>\n      <th>Car_Name</th>\n      <th>Year</th>\n      <th>Selling_Price</th>\n      <th>Present_Price</th>\n      <th>Kms_Driven</th>\n      <th>Fuel_Type</th>\n      <th>Seller_Type</th>\n      <th>Transmission</th>\n      <th>Owner</th>\n    </tr>\n  </thead>\n  <tbody>\n    <tr>\n      <th>0</th>\n      <td>ritz</td>\n      <td>2014</td>\n      <td>3.35</td>\n      <td>5.59</td>\n      <td>27000</td>\n      <td>Petrol</td>\n      <td>Dealer</td>\n      <td>Manual</td>\n      <td>0</td>\n    </tr>\n    <tr>\n      <th>1</th>\n      <td>sx4</td>\n      <td>2013</td>\n      <td>4.75</td>\n      <td>9.54</td>\n      <td>43000</td>\n      <td>Diesel</td>\n      <td>Dealer</td>\n      <td>Manual</td>\n      <td>0</td>\n    </tr>\n    <tr>\n      <th>2</th>\n      <td>ciaz</td>\n      <td>2017</td>\n      <td>7.25</td>\n      <td>9.85</td>\n      <td>6900</td>\n      <td>Petrol</td>\n      <td>Dealer</td>\n      <td>Manual</td>\n      <td>0</td>\n    </tr>\n    <tr>\n      <th>3</th>\n      <td>wagon r</td>\n      <td>2011</td>\n      <td>2.85</td>\n      <td>4.15</td>\n      <td>5200</td>\n      <td>Petrol</td>\n      <td>Dealer</td>\n      <td>Manual</td>\n      <td>0</td>\n    </tr>\n    <tr>\n      <th>4</th>\n      <td>swift</td>\n      <td>2014</td>\n      <td>4.60</td>\n      <td>6.87</td>\n      <td>42450</td>\n      <td>Diesel</td>\n      <td>Dealer</td>\n      <td>Manual</td>\n      <td>0</td>\n    </tr>\n    <tr>\n      <th>...</th>\n      <td>...</td>\n      <td>...</td>\n      <td>...</td>\n      <td>...</td>\n      <td>...</td>\n      <td>...</td>\n      <td>...</td>\n      <td>...</td>\n      <td>...</td>\n    </tr>\n    <tr>\n      <th>296</th>\n      <td>city</td>\n      <td>2016</td>\n      <td>9.50</td>\n      <td>11.60</td>\n      <td>33988</td>\n      <td>Diesel</td>\n      <td>Dealer</td>\n      <td>Manual</td>\n      <td>0</td>\n    </tr>\n    <tr>\n      <th>297</th>\n      <td>brio</td>\n      <td>2015</td>\n      <td>4.00</td>\n      <td>5.90</td>\n      <td>60000</td>\n      <td>Petrol</td>\n      <td>Dealer</td>\n      <td>Manual</td>\n      <td>0</td>\n    </tr>\n    <tr>\n      <th>298</th>\n      <td>city</td>\n      <td>2009</td>\n      <td>3.35</td>\n      <td>11.00</td>\n      <td>87934</td>\n      <td>Petrol</td>\n      <td>Dealer</td>\n      <td>Manual</td>\n      <td>0</td>\n    </tr>\n    <tr>\n      <th>299</th>\n      <td>city</td>\n      <td>2017</td>\n      <td>11.50</td>\n      <td>12.50</td>\n      <td>9000</td>\n      <td>Diesel</td>\n      <td>Dealer</td>\n      <td>Manual</td>\n      <td>0</td>\n    </tr>\n    <tr>\n      <th>300</th>\n      <td>brio</td>\n      <td>2016</td>\n      <td>5.30</td>\n      <td>5.90</td>\n      <td>5464</td>\n      <td>Petrol</td>\n      <td>Dealer</td>\n      <td>Manual</td>\n      <td>0</td>\n    </tr>\n  </tbody>\n</table>\n<p>301 rows × 9 columns</p>\n</div>"
     },
     "execution_count": 159,
     "metadata": {},
     "output_type": "execute_result"
    }
   ],
   "source": [
    "raw_df = pd.read_csv('../data/car data.txt')\n",
    "raw_df"
   ],
   "metadata": {
    "collapsed": false,
    "ExecuteTime": {
     "end_time": "2024-01-19T10:09:56.476248925Z",
     "start_time": "2024-01-19T10:09:56.460949149Z"
    }
   },
   "id": "5381d5c87191aa42"
  },
  {
   "cell_type": "code",
   "execution_count": 160,
   "outputs": [],
   "source": [
    "from sklearn.preprocessing import StandardScaler, OneHotEncoder\n",
    "from sklearn.model_selection import train_test_split\n",
    "\n",
    "df = raw_df.drop(['Car_Name'], axis=1, )\n",
    "# Encoding\n",
    "df['Fuel_Type'] = df['Fuel_Type'].astype('category').cat.codes\n",
    "df['Seller_Type'] = df['Seller_Type'].astype('category').cat.codes\n",
    "df['Transmission'] = df['Transmission'].astype('category').cat.codes\n"
   ],
   "metadata": {
    "collapsed": false,
    "ExecuteTime": {
     "end_time": "2024-01-19T10:09:56.656392699Z",
     "start_time": "2024-01-19T10:09:56.617803468Z"
    }
   },
   "id": "a603eabb982b9a5a"
  },
  {
   "cell_type": "code",
   "execution_count": 161,
   "outputs": [],
   "source": [
    "# Train Test Split\n",
    "X, y = df.drop(['Selling_Price'], axis=1), df.Selling_Price\n",
    "\n",
    "X_train, X_test, y_train, y_test = train_test_split(X, y, test_size=0.2, random_state=42)\n",
    "# df"
   ],
   "metadata": {
    "collapsed": false,
    "ExecuteTime": {
     "end_time": "2024-01-19T10:09:56.843585342Z",
     "start_time": "2024-01-19T10:09:56.797897175Z"
    }
   },
   "id": "972543d032f522eb"
  },
  {
   "cell_type": "code",
   "execution_count": 174,
   "outputs": [],
   "source": [
    "# Standardize the features\n",
    "scaler = StandardScaler()\n",
    "X_train = scaler.fit_transform(X_train)\n",
    "X_test = scaler.transform(X_test)"
   ],
   "metadata": {
    "collapsed": false,
    "ExecuteTime": {
     "end_time": "2024-01-19T10:12:52.247766929Z",
     "start_time": "2024-01-19T10:12:52.199588119Z"
    }
   },
   "id": "812f801b0868767f"
  },
  {
   "cell_type": "code",
   "execution_count": 243,
   "outputs": [],
   "source": [
    "import torch\n",
    "from torch import nn\n",
    "import torch.nn.functional as F\n",
    "\n",
    "\n",
    "class CarNN(nn.Module):\n",
    "    def __init__(self, input_size, output_size, bias=True):\n",
    "        super(CarNN, self).__init__()\n",
    "        self.bias = bias\n",
    "        self.w = nn.Parameter(torch.empty(output_size, input_size))\n",
    "        if bias:\n",
    "            self.b = nn.Parameter(torch.empty(output_size))\n",
    "        self.reset_params()\n",
    "        self.flatten = nn.Flatten()\n",
    "        self.fc1 = nn.Linear(input_size, 300)\n",
    "        self.r1 = nn.ReLU()\n",
    "        self.drop1 = nn.Dropout(p=0.2)\n",
    "        self.fc2 = nn.Linear(300, 100)\n",
    "        self.r2 = nn.SiLU()\n",
    "        self.fc3 = nn.Linear(100, 50)\n",
    "        self.r3 = nn.SELU()\n",
    "        self.drop2 = nn.Dropout(p=0.2)\n",
    "        self.fc4 = nn.Linear(50, output_size)\n",
    "        self.end = nn.Softmax()\n",
    "    def reset_params(self):\n",
    "        nn.init.kaiming_normal_(self.w, nonlinearity=\"relu\")\n",
    "        if self.bias:\n",
    "            nn.init.constant_(self.b, 0)\n",
    "\n",
    "    def forward(self, x):\n",
    "        # x = self.flatten(x)\n",
    "        x = self.fc1(x)\n",
    "        x = self.r1(x)\n",
    "        x = self.drop1(x)\n",
    "        x = self.fc2(x)\n",
    "        x = self.r2(x)\n",
    "        x = self.fc3(x)\n",
    "        x = self.r3(x)\n",
    "        x = self.drop2(x)\n",
    "        x = self.fc4(x)\n",
    "        x = self.end(x)\n",
    "        return x\n",
    "        # return F.linear(x, self.w, self.b)\n"
   ],
   "metadata": {
    "collapsed": false,
    "ExecuteTime": {
     "end_time": "2024-01-19T10:32:57.163695100Z",
     "start_time": "2024-01-19T10:32:57.154405746Z"
    }
   },
   "id": "d02ce2dd1c46e3e5"
  },
  {
   "cell_type": "code",
   "execution_count": 243,
   "outputs": [],
   "source": [],
   "metadata": {
    "collapsed": false,
    "ExecuteTime": {
     "end_time": "2024-01-19T10:32:57.335280325Z",
     "start_time": "2024-01-19T10:32:57.323020135Z"
    }
   },
   "id": "90ad3ea580716140"
  },
  {
   "cell_type": "code",
   "execution_count": 243,
   "outputs": [],
   "source": [],
   "metadata": {
    "collapsed": false,
    "ExecuteTime": {
     "end_time": "2024-01-19T10:32:57.595700956Z",
     "start_time": "2024-01-19T10:32:57.591885354Z"
    }
   },
   "id": "2f75b4f654bae5fd"
  },
  {
   "cell_type": "code",
   "execution_count": 244,
   "outputs": [],
   "source": [
    "# Define the hyperparameters\n",
    "input_size = 7\n",
    "output_size = 1\n",
    "learning_rate = 0.001\n",
    "num_epochs = 1000\n",
    "label_size = 1\n",
    "# Create the neural network object\n",
    "model = CarNN(input_size, output_size)\n"
   ],
   "metadata": {
    "collapsed": false,
    "ExecuteTime": {
     "end_time": "2024-01-19T10:32:57.768034956Z",
     "start_time": "2024-01-19T10:32:57.726633884Z"
    }
   },
   "id": "479670274d328a17"
  },
  {
   "cell_type": "code",
   "execution_count": 245,
   "outputs": [
    {
     "data": {
      "text/plain": "torch.Size([1, 7])"
     },
     "execution_count": 245,
     "metadata": {},
     "output_type": "execute_result"
    }
   ],
   "source": [
    "dict(model.named_parameters())[\"w\"].shape\n"
   ],
   "metadata": {
    "collapsed": false,
    "ExecuteTime": {
     "end_time": "2024-01-19T10:32:57.903698402Z",
     "start_time": "2024-01-19T10:32:57.862876119Z"
    }
   },
   "id": "552492f0286ad46e"
  },
  {
   "cell_type": "code",
   "execution_count": 246,
   "outputs": [],
   "source": [
    "from torch import optim\n",
    "\n",
    "criterion = nn.L1Loss()\n",
    "optimizer = optim.SGD(model.parameters(), lr=learning_rate)\n"
   ],
   "metadata": {
    "collapsed": false,
    "ExecuteTime": {
     "end_time": "2024-01-19T10:32:58.075971814Z",
     "start_time": "2024-01-19T10:32:58.032988146Z"
    }
   },
   "id": "1d84938cd83d31d5"
  },
  {
   "cell_type": "code",
   "execution_count": 247,
   "outputs": [],
   "source": [
    "X_train_ = torch.tensor(X_train, dtype=torch.float32)\n",
    "y_train_ = torch.tensor(y_train, dtype=torch.float32)\n",
    "X_test_ = torch.tensor(X_test, dtype=torch.float32)\n",
    "# y_test_ = torch.tensor(y_test, dtype=torch.float32)\n"
   ],
   "metadata": {
    "collapsed": false,
    "ExecuteTime": {
     "end_time": "2024-01-19T10:32:58.183707046Z",
     "start_time": "2024-01-19T10:32:58.142641011Z"
    }
   },
   "id": "efa9fe0bd4be9cdb"
  },
  {
   "cell_type": "code",
   "execution_count": 248,
   "outputs": [
    {
     "name": "stdout",
     "output_type": "stream",
     "text": [
      "torch.Size([240, 7])\n",
      "torch.Size([240])\n",
      "torch.Size([61, 7])\n"
     ]
    }
   ],
   "source": [
    "print(X_train_.size())\n",
    "print(y_train_.size())\n",
    "print(X_test_.size())\n"
   ],
   "metadata": {
    "collapsed": false,
    "ExecuteTime": {
     "end_time": "2024-01-19T10:32:58.473680420Z",
     "start_time": "2024-01-19T10:32:58.462467030Z"
    }
   },
   "id": "4e442c1e7e0551ec"
  },
  {
   "cell_type": "code",
   "execution_count": 249,
   "outputs": [
    {
     "data": {
      "text/plain": "tensor([[-1.9699, -0.7536, -0.2756,  ...,  1.3382,  0.3780,  3.5282],\n        [ 1.1564, -0.7313, -0.8143,  ...,  1.3382,  0.3780, -0.1857],\n        [-1.9699, -0.7495,  0.2991,  ...,  1.3382,  0.3780, -0.1857],\n        ...,\n        [ 0.1143, -0.4527, -0.5030,  ...,  1.3382,  0.3780,  3.5282],\n        [-0.9278,  0.2773,  0.7622,  ..., -0.7473,  0.3780, -0.1857],\n        [ 1.1564, -0.6388, -0.8023,  ...,  1.3382,  0.3780, -0.1857]])"
     },
     "execution_count": 249,
     "metadata": {},
     "output_type": "execute_result"
    }
   ],
   "source": [
    "X_train_"
   ],
   "metadata": {
    "collapsed": false,
    "ExecuteTime": {
     "end_time": "2024-01-19T10:32:58.617965238Z",
     "start_time": "2024-01-19T10:32:58.608162709Z"
    }
   },
   "id": "73894bc2d0d4bffe"
  },
  {
   "cell_type": "code",
   "execution_count": 252,
   "outputs": [
    {
     "name": "stderr",
     "output_type": "stream",
     "text": [
      "/home/rahmani/work/envs/ML/lib/python3.11/site-packages/torch/nn/modules/module.py:1518: UserWarning: Implicit dimension choice for softmax has been deprecated. Change the call to include dim=X as an argument.\n",
      "  return self._call_impl(*args, **kwargs)\n",
      "/home/rahmani/work/envs/ML/lib/python3.11/site-packages/torch/nn/modules/loss.py:101: UserWarning: Using a target size (torch.Size([240])) that is different to the input size (torch.Size([240, 1])). This will likely lead to incorrect results due to broadcasting. Please ensure they have the same size.\n",
      "  return F.l1_loss(input, target, reduction=self.reduction)\n"
     ]
    },
    {
     "name": "stdout",
     "output_type": "stream",
     "text": [
      "Epoch: 100/1000, Loss: 3.9365413188934326\n",
      "Epoch: 200/1000, Loss: 3.9365413188934326\n",
      "Epoch: 300/1000, Loss: 3.9365413188934326\n",
      "Epoch: 400/1000, Loss: 3.9365413188934326\n",
      "Epoch: 500/1000, Loss: 3.9365413188934326\n",
      "Epoch: 600/1000, Loss: 3.9365413188934326\n",
      "Epoch: 700/1000, Loss: 3.9365413188934326\n",
      "Epoch: 800/1000, Loss: 3.9365413188934326\n",
      "Epoch: 900/1000, Loss: 3.9365413188934326\n",
      "Epoch: 1000/1000, Loss: 3.9365413188934326\n"
     ]
    }
   ],
   "source": [
    "\n",
    "for epoch in range(num_epochs):\n",
    "    outputs = model(X_train_)\n",
    "    # print(outputs)\n",
    "    \n",
    "    loss = criterion(outputs, y_train_)\n",
    "    optimizer.zero_grad()\n",
    "    loss.backward()\n",
    "    optimizer.step()\n",
    "\n",
    "    if (epoch + 1) % 100 == 0:\n",
    "        print(f'Epoch: {epoch + 1}/{num_epochs}, Loss: {loss.item()}')\n"
   ],
   "metadata": {
    "collapsed": false,
    "ExecuteTime": {
     "end_time": "2024-01-19T10:36:39.196160596Z",
     "start_time": "2024-01-19T10:36:38.077493855Z"
    }
   },
   "id": "455665265b059ba1"
  },
  {
   "cell_type": "code",
   "execution_count": 250,
   "outputs": [],
   "source": [
    "\n",
    "model.eval()\n",
    "with torch.no_grad():\n",
    "    test_outputs = model(X_test_)\n",
    "    _, predicted = torch.max(test_outputs.data, 1)\n",
    "    print(\"Predictions:\", predicted)"
   ],
   "metadata": {
    "collapsed": false,
    "ExecuteTime": {
     "end_time": "2024-01-19T10:33:00.709309856Z",
     "start_time": "2024-01-19T10:33:00.705972032Z"
    }
   },
   "id": "c5ebd34bf8e7acc9"
  },
  {
   "cell_type": "code",
   "execution_count": 223,
   "outputs": [],
   "source": [],
   "metadata": {
    "collapsed": false,
    "ExecuteTime": {
     "end_time": "2024-01-19T10:22:19.844335212Z",
     "start_time": "2024-01-19T10:22:19.834330183Z"
    }
   },
   "id": "db3cf6d7c6bb27e4"
  },
  {
   "cell_type": "code",
   "execution_count": 223,
   "outputs": [],
   "source": [],
   "metadata": {
    "collapsed": false,
    "ExecuteTime": {
     "end_time": "2024-01-19T10:22:19.844429027Z",
     "start_time": "2024-01-19T10:22:19.837855728Z"
    }
   },
   "id": "4da662e1eead0394"
  }
 ],
 "metadata": {
  "kernelspec": {
   "display_name": "Python 3",
   "language": "python",
   "name": "python3"
  },
  "language_info": {
   "codemirror_mode": {
    "name": "ipython",
    "version": 2
   },
   "file_extension": ".py",
   "mimetype": "text/x-python",
   "name": "python",
   "nbconvert_exporter": "python",
   "pygments_lexer": "ipython2",
   "version": "2.7.6"
  }
 },
 "nbformat": 4,
 "nbformat_minor": 5
}
