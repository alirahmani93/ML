{
 "cells": [
  {
   "cell_type": "code",
   "execution_count": 17,
   "id": "e164d091-3eb2-45b7-bf9f-309432d87142",
   "metadata": {},
   "outputs": [
    {
     "data": {
      "text/plain": [
       "[0, 0, 1, 1, 3, 2, 6, 3, 10, 4, 15, 5, 'hi']"
      ]
     },
     "execution_count": 17,
     "metadata": {},
     "output_type": "execute_result"
    }
   ],
   "source": [
    "def f(n:list):\n",
    "    z=0\n",
    "    for i in range(n):\n",
    "        z+=i\n",
    "        yield z\n",
    "        yield i\n",
    "    h=\"hi\"\n",
    "    yield h\n",
    "x=f(5)\n",
    "list(f(6))"
   ]
  },
  {
   "cell_type": "code",
   "execution_count": 13,
   "id": "d50cbc43-99f2-43e0-98e3-8f268f8a7768",
   "metadata": {},
   "outputs": [
    {
     "data": {
      "text/plain": [
       "['__class__',\n",
       " '__del__',\n",
       " '__delattr__',\n",
       " '__dir__',\n",
       " '__doc__',\n",
       " '__eq__',\n",
       " '__format__',\n",
       " '__ge__',\n",
       " '__getattribute__',\n",
       " '__getstate__',\n",
       " '__gt__',\n",
       " '__hash__',\n",
       " '__init__',\n",
       " '__init_subclass__',\n",
       " '__iter__',\n",
       " '__le__',\n",
       " '__lt__',\n",
       " '__name__',\n",
       " '__ne__',\n",
       " '__new__',\n",
       " '__next__',\n",
       " '__qualname__',\n",
       " '__reduce__',\n",
       " '__reduce_ex__',\n",
       " '__repr__',\n",
       " '__setattr__',\n",
       " '__sizeof__',\n",
       " '__str__',\n",
       " '__subclasshook__',\n",
       " 'close',\n",
       " 'gi_code',\n",
       " 'gi_frame',\n",
       " 'gi_running',\n",
       " 'gi_suspended',\n",
       " 'gi_yieldfrom',\n",
       " 'send',\n",
       " 'throw']"
      ]
     },
     "execution_count": 13,
     "metadata": {},
     "output_type": "execute_result"
    }
   ],
   "source": [
    "dir(x)"
   ]
  },
  {
   "cell_type": "code",
   "execution_count": 18,
   "id": "c6dc547a-8d0e-401a-b0c1-3617d5fe7c90",
   "metadata": {},
   "outputs": [],
   "source": [
    "%config IPCompleter.use_jedi=False"
   ]
  },
  {
   "cell_type": "code",
   "execution_count": 22,
   "id": "14456e1d-3dd4-41b3-9746-9ffee106ba50",
   "metadata": {},
   "outputs": [],
   "source": [
    "def xx(*_):\n",
    "    return _"
   ]
  },
  {
   "cell_type": "code",
   "execution_count": 23,
   "id": "e0242cdc-d560-4a56-9870-d6d6d7efa70e",
   "metadata": {},
   "outputs": [
    {
     "data": {
      "text/plain": [
       "(1, 2, 3)"
      ]
     },
     "execution_count": 23,
     "metadata": {},
     "output_type": "execute_result"
    }
   ],
   "source": [
    "xx(1,2,3)"
   ]
  },
  {
   "cell_type": "code",
   "execution_count": 24,
   "id": "4d2560f4-9ba8-4e8f-bce0-7a7f13935c49",
   "metadata": {},
   "outputs": [],
   "source": [
    "def x(a:int):\n",
    "    return a"
   ]
  },
  {
   "cell_type": "code",
   "execution_count": 79,
   "id": "3d09cd42-ae87-4eec-a128-b051829cf0cd",
   "metadata": {},
   "outputs": [],
   "source": [
    "class Account:\n",
    "    def __init__(self,id, username:str, password:str, balance:int = 0):\n",
    "        self.username = username\n",
    "        self.password = password\n",
    "        self.balance = balance\n",
    "        self.id = id\n",
    "    def __repr__(self):\n",
    "        return str(self.id)\n",
    "\n",
    "    def __str__(self):\n",
    "        return str(self.id)\n",
    "                "
   ]
  },
  {
   "cell_type": "code",
   "execution_count": 80,
   "id": "2c7056fa-1130-4113-9bbd-fc30d03a8e68",
   "metadata": {},
   "outputs": [],
   "source": [
    "a = Account(1)\n",
    "b = Account(1)\n",
    "c = Account(1)"
   ]
  },
  {
   "cell_type": "code",
   "execution_count": 81,
   "id": "c8c7f077-e08c-4bfa-9e27-0329ee427354",
   "metadata": {},
   "outputs": [],
   "source": []
  },
  {
   "cell_type": "code",
   "execution_count": 82,
   "id": "b25ea949-e09c-4fb7-afe3-6f50848799b8",
   "metadata": {},
   "outputs": [
    {
     "name": "stdout",
     "output_type": "stream",
     "text": [
      "1\n",
      "1\n",
      "1\n"
     ]
    }
   ],
   "source": [
    "for i in gc.get_objects():\n",
    "    if isinstance(i , Account):\n",
    "        print((i.__str__()))"
   ]
  },
  {
   "cell_type": "markdown",
   "id": "1de20bec-824b-41a1-b4b4-99d03ef2be54",
   "metadata": {},
   "source": [
    "Cosine similarity\n",
    "\n",
    "https://www.google.com/search?q=Cosign+simulatory&oq=Cosign+simulatory&gs_lcrp=EgZjaHJvbWUyBggAEEUYOTIJCAEQABgNGIAEMgkIAhAAGA0YgAQyCQgDEAAYDRiABDIJCAQQABgNGIAEMgkIBRAAGA0YgAQyCQgGEAAYDRiABDIJCAcQABgNGIAEMgkICBAAGA0YgAQyCQgJEAAYDRiABNIBBzM0NGowajeoAgCwAgA&sourceid=chrome&ie=UTF-8\n",
    "\n",
    "Veector Class\n",
    "\n"
   ]
  },
  {
   "cell_type": "code",
   "execution_count": null,
   "id": "48c3e5cf-4064-46ec-bf0b-c8535bcb50d7",
   "metadata": {},
   "outputs": [],
   "source": []
  }
 ],
 "metadata": {
  "kernelspec": {
   "display_name": "Python 3 (ipykernel)",
   "language": "python",
   "name": "python3"
  },
  "language_info": {
   "codemirror_mode": {
    "name": "ipython",
    "version": 3
   },
   "file_extension": ".py",
   "mimetype": "text/x-python",
   "name": "python",
   "nbconvert_exporter": "python",
   "pygments_lexer": "ipython3",
   "version": "3.11.4"
  }
 },
 "nbformat": 4,
 "nbformat_minor": 5
}
