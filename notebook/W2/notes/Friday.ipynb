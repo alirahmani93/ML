{
 "cells": [
  {
   "cell_type": "markdown",
   "id": "f30e6ec0-70a6-4e39-9eb2-e20f9280a5dc",
   "metadata": {},
   "source": [
    "## 1- علم آمار به چه درد میخورد"
   ]
  },
  {
   "cell_type": "markdown",
   "id": "faa4a700-7432-4bf8-9eaa-f2081f1c82c4",
   "metadata": {},
   "source": [
    "## ۲- تفاوت inferance frequentic و bysian "
   ]
  },
  {
   "cell_type": "markdown",
   "id": "c621d8d8-aa3c-4b86-9de5-49051548308c",
   "metadata": {},
   "source": [
    "## 3- مفهوم تخمین گر نا اریب unbiased چیست"
   ]
  },
  {
   "cell_type": "markdown",
   "id": "b521a2e2-cb0c-453e-b1e9-09fc3a85518c",
   "metadata": {},
   "source": [
    ".توزیع سکه برنولی است \n",
    "\n",
    "توزیعی که دو حالت دارد. آزمایشی تصادقی یا شکست است یا پیروزی \n",
    "پارامتر توزیع برنولی (P)\n"
   ]
  },
  {
   "cell_type": "markdown",
   "id": "c796cef7-06d3-41c7-862f-ca6e2649d9df",
   "metadata": {},
   "source": [
    "اصول احتمال کلمونگروف\n",
    "\n",
    "احتمال پیش امدن هر عددی ۰ تا ۱ است\n",
    "جمع احتمال همه برامد ها یک میشود \n",
    "احتمال اجتماع برابر است با جمع احتمال ها \n",
    "\n"
   ]
  },
  {
   "cell_type": "markdown",
   "id": "58ae0396-0f6d-4be3-a718-ce750855a2c3",
   "metadata": {},
   "source": [
    "ساختار های ریاضی بر روی دو چیز بتا میشود\n",
    "اصول: چیزی که دلیلی ندارد و باید پذیرفت\n"
   ]
  },
  {
   "cell_type": "markdown",
   "id": "0df29cc4-b8f2-40fb-97ab-665ddc728a0b",
   "metadata": {},
   "source": [
    "یکی از کاربرد های آمار در تخمین پارامتر های اماریست "
   ]
  },
  {
   "cell_type": "markdown",
   "id": "9e241355-7214-475f-8333-ba1b9439297e",
   "metadata": {},
   "source": []
  }
 ],
 "metadata": {
  "kernelspec": {
   "display_name": "Python 3 (ipykernel)",
   "language": "python",
   "name": "python3"
  },
  "language_info": {
   "codemirror_mode": {
    "name": "ipython",
    "version": 3
   },
   "file_extension": ".py",
   "mimetype": "text/x-python",
   "name": "python",
   "nbconvert_exporter": "python",
   "pygments_lexer": "ipython3",
   "version": "3.11.4"
  }
 },
 "nbformat": 4,
 "nbformat_minor": 5
}
