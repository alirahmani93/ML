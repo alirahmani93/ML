{
 "cells": [
  {
   "cell_type": "code",
   "execution_count": 99,
   "id": "dc94ecff-b5e2-40b5-a39e-79a40d8a42e3",
   "metadata": {
    "is_executing": true
   },
   "outputs": [
    {
     "data": {
      "text/plain": [
       "'/home/rahmani/work/ali/ML/notebook/W2/notes'"
      ]
     },
     "execution_count": 99,
     "metadata": {},
     "output_type": "execute_result"
    }
   ],
   "source": [
    "import numpy as np\n",
    "import pandas as pd\n",
    "import os\n",
    "os.getcwd()"
   ]
  },
  {
   "cell_type": "markdown",
   "id": "db2ade41-e429-4548-b316-70e410943006",
   "metadata": {
    "jp-MarkdownHeadingCollapsed": true
   },
   "source": [
    "# Tips"
   ]
  },
  {
   "cell_type": "code",
   "execution_count": 7,
   "id": "c79b3250-6262-4559-8862-b9f5f5c699e9",
   "metadata": {},
   "outputs": [
    {
     "data": {
      "text/html": [
       "<div>\n",
       "<style scoped>\n",
       "    .dataframe tbody tr th:only-of-type {\n",
       "        vertical-align: middle;\n",
       "    }\n",
       "\n",
       "    .dataframe tbody tr th {\n",
       "        vertical-align: top;\n",
       "    }\n",
       "\n",
       "    .dataframe thead th {\n",
       "        text-align: right;\n",
       "    }\n",
       "</style>\n",
       "<table border=\"1\" class=\"dataframe\">\n",
       "  <thead>\n",
       "    <tr style=\"text-align: right;\">\n",
       "      <th></th>\n",
       "      <th>total_bill</th>\n",
       "      <th>tip</th>\n",
       "      <th>sex</th>\n",
       "      <th>smoker</th>\n",
       "      <th>day</th>\n",
       "      <th>time</th>\n",
       "      <th>size</th>\n",
       "    </tr>\n",
       "  </thead>\n",
       "  <tbody>\n",
       "    <tr>\n",
       "      <th>0</th>\n",
       "      <td>16.99</td>\n",
       "      <td>1.01</td>\n",
       "      <td>Female</td>\n",
       "      <td>No</td>\n",
       "      <td>Sun</td>\n",
       "      <td>Dinner</td>\n",
       "      <td>2</td>\n",
       "    </tr>\n",
       "    <tr>\n",
       "      <th>1</th>\n",
       "      <td>10.34</td>\n",
       "      <td>1.66</td>\n",
       "      <td>Male</td>\n",
       "      <td>No</td>\n",
       "      <td>Sun</td>\n",
       "      <td>Dinner</td>\n",
       "      <td>3</td>\n",
       "    </tr>\n",
       "    <tr>\n",
       "      <th>2</th>\n",
       "      <td>21.01</td>\n",
       "      <td>3.50</td>\n",
       "      <td>Male</td>\n",
       "      <td>No</td>\n",
       "      <td>Sun</td>\n",
       "      <td>Dinner</td>\n",
       "      <td>3</td>\n",
       "    </tr>\n",
       "    <tr>\n",
       "      <th>3</th>\n",
       "      <td>23.68</td>\n",
       "      <td>3.31</td>\n",
       "      <td>Male</td>\n",
       "      <td>No</td>\n",
       "      <td>Sun</td>\n",
       "      <td>Dinner</td>\n",
       "      <td>2</td>\n",
       "    </tr>\n",
       "    <tr>\n",
       "      <th>4</th>\n",
       "      <td>24.59</td>\n",
       "      <td>3.61</td>\n",
       "      <td>Female</td>\n",
       "      <td>No</td>\n",
       "      <td>Sun</td>\n",
       "      <td>Dinner</td>\n",
       "      <td>4</td>\n",
       "    </tr>\n",
       "    <tr>\n",
       "      <th>...</th>\n",
       "      <td>...</td>\n",
       "      <td>...</td>\n",
       "      <td>...</td>\n",
       "      <td>...</td>\n",
       "      <td>...</td>\n",
       "      <td>...</td>\n",
       "      <td>...</td>\n",
       "    </tr>\n",
       "    <tr>\n",
       "      <th>239</th>\n",
       "      <td>29.03</td>\n",
       "      <td>5.92</td>\n",
       "      <td>Male</td>\n",
       "      <td>No</td>\n",
       "      <td>Sat</td>\n",
       "      <td>Dinner</td>\n",
       "      <td>3</td>\n",
       "    </tr>\n",
       "    <tr>\n",
       "      <th>240</th>\n",
       "      <td>27.18</td>\n",
       "      <td>2.00</td>\n",
       "      <td>Female</td>\n",
       "      <td>Yes</td>\n",
       "      <td>Sat</td>\n",
       "      <td>Dinner</td>\n",
       "      <td>2</td>\n",
       "    </tr>\n",
       "    <tr>\n",
       "      <th>241</th>\n",
       "      <td>22.67</td>\n",
       "      <td>2.00</td>\n",
       "      <td>Male</td>\n",
       "      <td>Yes</td>\n",
       "      <td>Sat</td>\n",
       "      <td>Dinner</td>\n",
       "      <td>2</td>\n",
       "    </tr>\n",
       "    <tr>\n",
       "      <th>242</th>\n",
       "      <td>17.82</td>\n",
       "      <td>1.75</td>\n",
       "      <td>Male</td>\n",
       "      <td>No</td>\n",
       "      <td>Sat</td>\n",
       "      <td>Dinner</td>\n",
       "      <td>2</td>\n",
       "    </tr>\n",
       "    <tr>\n",
       "      <th>243</th>\n",
       "      <td>18.78</td>\n",
       "      <td>3.00</td>\n",
       "      <td>Female</td>\n",
       "      <td>No</td>\n",
       "      <td>Thur</td>\n",
       "      <td>Dinner</td>\n",
       "      <td>2</td>\n",
       "    </tr>\n",
       "  </tbody>\n",
       "</table>\n",
       "<p>244 rows × 7 columns</p>\n",
       "</div>"
      ],
      "text/plain": [
       "     total_bill   tip     sex smoker   day    time  size\n",
       "0         16.99  1.01  Female     No   Sun  Dinner     2\n",
       "1         10.34  1.66    Male     No   Sun  Dinner     3\n",
       "2         21.01  3.50    Male     No   Sun  Dinner     3\n",
       "3         23.68  3.31    Male     No   Sun  Dinner     2\n",
       "4         24.59  3.61  Female     No   Sun  Dinner     4\n",
       "..          ...   ...     ...    ...   ...     ...   ...\n",
       "239       29.03  5.92    Male     No   Sat  Dinner     3\n",
       "240       27.18  2.00  Female    Yes   Sat  Dinner     2\n",
       "241       22.67  2.00    Male    Yes   Sat  Dinner     2\n",
       "242       17.82  1.75    Male     No   Sat  Dinner     2\n",
       "243       18.78  3.00  Female     No  Thur  Dinner     2\n",
       "\n",
       "[244 rows x 7 columns]"
      ]
     },
     "execution_count": 7,
     "metadata": {},
     "output_type": "execute_result"
    }
   ],
   "source": [
    "df = pd.read_csv('../../../datasets/tips.csv')\n",
    "df"
   ]
  },
  {
   "cell_type": "markdown",
   "id": "436d294d-77fc-4296-9b8b-8fe9912102a0",
   "metadata": {},
   "source": [
    "سوال:‌چه میانگینی برای جامعه میانگین بهتری است. میانگین کل افراد یا میانگین سایز خانواده برا تعدا خانواده \n",
    "\n",
    "sume(total - bill)/(sum(size))\n",
    "\n",
    "(sume(total - bill)/size)/count(family)\n"
   ]
  },
  {
   "cell_type": "code",
   "execution_count": 8,
   "id": "fee9450d-eda2-490e-9f1c-44504a5fd31e",
   "metadata": {},
   "outputs": [
    {
     "ename": "SyntaxError",
     "evalue": "unterminated string literal (detected at line 1) (2872840739.py, line 1)",
     "output_type": "error",
     "traceback": [
      "\u001b[0;36m  Cell \u001b[0;32mIn[8], line 1\u001b[0;36m\u001b[0m\n\u001b[0;31m    df = df[(df['day'] == 'Sat') | (df['day'] == 'Sun')].loc[:,['tip','total_bill',']]\u001b[0m\n\u001b[0m                                                                                   ^\u001b[0m\n\u001b[0;31mSyntaxError\u001b[0m\u001b[0;31m:\u001b[0m unterminated string literal (detected at line 1)\n"
     ]
    }
   ],
   "source": [
    "df = df[(df['day'] == 'Sat') | (df['day'] == 'Sun')].loc[:,['tip','total_bill',']]\n",
    "df"
   ]
  },
  {
   "cell_type": "code",
   "execution_count": null,
   "id": "18f61d64-d04d-4478-8622-545a0455e5dc",
   "metadata": {},
   "outputs": [],
   "source": [
    "from typing import Callable\n",
    "def encoder_column(col_name:str)-> Callable:\n",
    "    def inner(x:pd.Series) -> pd.Series:\n",
    "        if x.name == col_name:\n",
    "            categories:list = x.uniques()\n",
    "            for k,v in x.items():\n",
    "                x[k] = categories.index(v)\n",
    "        return x\n",
    "    return inner"
   ]
  },
  {
   "cell_type": "code",
   "execution_count": null,
   "id": "b790faab-bbcd-4bdb-88ac-2a6d678574ce",
   "metadata": {},
   "outputs": [],
   "source": [
    "df.apply(encoder_column('sex'))"
   ]
  },
  {
   "cell_type": "markdown",
   "id": "1b030c36-21f2-46f9-a352-83fef4ecdc36",
   "metadata": {},
   "source": [
    "# Esm Famil"
   ]
  },
  {
   "cell_type": "markdown",
   "id": "0985e2da-2f7a-4c7d-ba0a-ad58d8377af4",
   "metadata": {},
   "source": [
    "بازی اسم‌فامیل\n",
    "\n",
    "سلیب که از تنهایی و خانه‌نشینی حوصله‌اش سر رفته تصمیم گرفته که دوستانش را دعوت کند تا با آن‌ها اسم‌فامیل بازی کند.\n",
    "\n",
    "بعد از رسیدن دوستان سلیب آن‌ها بازی را شروع کردند، اما بعد از تمام شدن دست اول در امتیاز‌دهی دچار مشکل شده‌اند. هیچ‌کس کلمات دیگری را قبول نداشت به همین خاطر نمره‌ی هر کلمه نامشخص بود.\n",
    "\n",
    "سلیب و دوستانش برنامه‌نویس هستند و فقط به برنامه‌ها اعتماد دارند. به همین خاطر از شما می‌خواهند برایشان برنامه‌ای بنویسید تا با دریافت فایل تمامی کلمات قابل قبول طبق قوانین ذکر شده، بتواند به او و دوستانش نمره‌ای صحیح بدهد.\n",
    "\n",
    "https://quera.org/problemset/87182/"
   ]
  },
  {
   "cell_type": "markdown",
   "id": "ba449084-ff64-47e5-a1d5-15c265792e7a",
   "metadata": {},
   "source": [
    "### !!! اگر خودشون برنامه نویس هستن بنویسن دیگه از ما چرا میخوان !!!"
   ]
  },
  {
   "cell_type": "code",
   "execution_count": 2,
   "id": "068028d8-7dcc-48ed-a4ac-8a16533a0587",
   "metadata": {},
   "outputs": [],
   "source": [
    "def ready_up(path:str='./esm_famil_data.csv'):\n",
    "    return pd.read_csv('../../../datasets/esm_famil_data.csv')"
   ]
  },
  {
   "cell_type": "code",
   "execution_count": 3,
   "id": "c341576d-c8b7-4590-9b10-1c877f61a7e5",
   "metadata": {},
   "outputs": [],
   "source": [
    "df_game = ready_up(path='../../../datasets/esm_famil_data.csv')"
   ]
  },
  {
   "cell_type": "code",
   "execution_count": 4,
   "id": "679e7426-01e7-43df-bcdc-7413c841d620",
   "metadata": {},
   "outputs": [],
   "source": [
    "players = {}\n",
    "players_score = {}"
   ]
  },
  {
   "cell_type": "code",
   "execution_count": 5,
   "id": "f9531e12-61fc-49ee-bdf3-e09fd99ff179",
   "metadata": {},
   "outputs": [],
   "source": [
    "def add_participant(participant, answers):\n",
    "    players[participant] = answers\n",
    "    players_score[participant] = 0\n",
    "    return players"
   ]
  },
  {
   "cell_type": "code",
   "execution_count": 6,
   "id": "8f728cac2d6e127d",
   "metadata": {
    "collapsed": false,
    "jupyter": {
     "outputs_hidden": false
    }
   },
   "outputs": [],
   "source": [
    "score={\n",
    "    \"all_invalid\" : 0,\n",
    "    \"all_duplicate\" : 0,\n",
    "    \"all_distinc\" : 0,\n",
    "    \"invalid\" : 0,\n",
    "    \"duplicate\" : 0,\n",
    "    \"distinct\" : 0\n",
    "}"
   ]
  },
  {
   "cell_type": "code",
   "execution_count": 92,
   "id": "35699209-6742-445e-9a0a-f5d7d5cba783",
   "metadata": {},
   "outputs": [],
   "source": [
    "add_participant(\n",
    "    participant = 'salib',\n",
    "    answers = {\n",
    "        'esm': 'بردیا', 'famil': 'بابایی', 'keshvar': 'باربادوس',\n",
    "        'rang': 'بنفش', 'ashia': '651651', 'ghaza': 'باقالیپلو'\n",
    "        })\n",
    "add_participant(\n",
    "    participant = 'meli',\n",
    "    answers = {\n",
    "        'esm': '', 'famil': 'بانی', 'keshvar': 'باربادوس',\n",
    "        'rang': 'بنفش', 'ashia': 'بمب', 'ghaza': 'باقالیپلو'\n",
    "        })\n",
    "\n",
    "add_participant(\n",
    "    participant = 'ali',\n",
    "    answers = {\n",
    "        'esm': 'بردیا', 'famil': 'بابایی', 'keshvar': 'باهاما',\n",
    "        'rang': 'بنفش', 'ashia': 'بمب', 'ghaza': 'باقی'\n",
    "        })\n",
    "\n",
    "add_participant(\n",
    "    participant = 'yasi',\n",
    "    answers = {\n",
    "        'esm': 'بردار', 'famil': 'بابازاده', 'keshvar': 'بارسا',\n",
    "        'rang': 'بزی', 'ashia': 'بیب بیب', 'ghaza': 'باشماق'\n",
    "        });"
   ]
  },
  {
   "cell_type": "code",
   "execution_count": 93,
   "id": "1f780022-ec07-4b27-937c-1fe9a6743eff",
   "metadata": {},
   "outputs": [
    {
     "data": {
      "text/plain": [
       "{'salib': {'esm': 'بردیا',\n",
       "  'famil': 'بابایی',\n",
       "  'keshvar': 'باربادوس',\n",
       "  'rang': 'بنفش',\n",
       "  'ashia': '651651',\n",
       "  'ghaza': 'باقالیپلو'},\n",
       " 'meli': {'esm': '',\n",
       "  'famil': 'بانی',\n",
       "  'keshvar': 'باربادوس',\n",
       "  'rang': 'بنفش',\n",
       "  'ashia': 'بمب',\n",
       "  'ghaza': 'باقالیپلو'},\n",
       " 'ali': {'esm': 'بردیا',\n",
       "  'famil': 'بابایی',\n",
       "  'keshvar': 'باهاما',\n",
       "  'rang': 'بنفش',\n",
       "  'ashia': 'بمب',\n",
       "  'ghaza': 'باقی'},\n",
       " 'yasi': {'esm': 'بردار',\n",
       "  'famil': 'بابازاده',\n",
       "  'keshvar': 'بارسا',\n",
       "  'rang': 'بزی',\n",
       "  'ashia': 'بیب بیب',\n",
       "  'ghaza': 'باشماق'}}"
      ]
     },
     "execution_count": 93,
     "metadata": {},
     "output_type": "execute_result"
    }
   ],
   "source": [
    "players_score = {}\n",
    "players"
   ]
  },
  {
   "cell_type": "code",
   "execution_count": 94,
   "id": "32b15e7b-d2a9-4718-803b-491212503c94",
   "metadata": {},
   "outputs": [],
   "source": [
    "players_name = list(players.keys())\n",
    "players_score = { i:0 for i in  players_name}\n",
    "        "
   ]
  },
  {
   "cell_type": "code",
   "execution_count": 95,
   "id": "13c4b2c7-e65a-4b6c-91f5-4c81ec877042",
   "metadata": {
    "is_executing": true
   },
   "outputs": [],
   "source": [
    "\n",
    "def calculate_all(col:pd.Series)->pd.Series:  \n",
    "    game_col = df_game[col.name]\n",
    "        \n",
    "    for i,v in enumerate(col):\n",
    "        count_same = list(col).count(v)\n",
    "\n",
    "        # print(i,v,count_same)\n",
    "        if game_col.isin([v]).any():\n",
    "            if col.all():\n",
    "                if count_same == 0:\n",
    "                    players_score[players_name[i]] += 0\n",
    "                elif count_same == 1:\n",
    "                    players_score[players_name[i]] += 10\n",
    "                else:\n",
    "                    players_score[players_name[i]] += 5\n",
    "            else:\n",
    "                if count_same == 0:\n",
    "                    players_score[players_name[i]] += 0\n",
    "                elif count_same == 1:\n",
    "                    players_score[players_name[i]] += 15\n",
    "                else:\n",
    "                    players_score[players_name[i]] += 10\n",
    "    return col"
   ]
  },
  {
   "cell_type": "code",
   "execution_count": 96,
   "id": "7794ff7c-a2f9-4269-b985-01ad42a85928",
   "metadata": {},
   "outputs": [],
   "source": [
    "data = pd.DataFrame(players)"
   ]
  },
  {
   "cell_type": "code",
   "execution_count": 97,
   "id": "8029f5bc-079c-43b7-bcaa-7eddcc86ddbb",
   "metadata": {},
   "outputs": [
    {
     "data": {
      "text/html": [
       "<div>\n",
       "<style scoped>\n",
       "    .dataframe tbody tr th:only-of-type {\n",
       "        vertical-align: middle;\n",
       "    }\n",
       "\n",
       "    .dataframe tbody tr th {\n",
       "        vertical-align: top;\n",
       "    }\n",
       "\n",
       "    .dataframe thead th {\n",
       "        text-align: right;\n",
       "    }\n",
       "</style>\n",
       "<table border=\"1\" class=\"dataframe\">\n",
       "  <thead>\n",
       "    <tr style=\"text-align: right;\">\n",
       "      <th></th>\n",
       "      <th>salib</th>\n",
       "      <th>meli</th>\n",
       "      <th>ali</th>\n",
       "      <th>yasi</th>\n",
       "    </tr>\n",
       "  </thead>\n",
       "  <tbody>\n",
       "    <tr>\n",
       "      <th>esm</th>\n",
       "      <td>بردیا</td>\n",
       "      <td></td>\n",
       "      <td>بردیا</td>\n",
       "      <td>بردار</td>\n",
       "    </tr>\n",
       "    <tr>\n",
       "      <th>famil</th>\n",
       "      <td>بابایی</td>\n",
       "      <td>بانی</td>\n",
       "      <td>بابایی</td>\n",
       "      <td>بابازاده</td>\n",
       "    </tr>\n",
       "    <tr>\n",
       "      <th>keshvar</th>\n",
       "      <td>باربادوس</td>\n",
       "      <td>باربادوس</td>\n",
       "      <td>باهاما</td>\n",
       "      <td>بارسا</td>\n",
       "    </tr>\n",
       "    <tr>\n",
       "      <th>rang</th>\n",
       "      <td>بنفش</td>\n",
       "      <td>بنفش</td>\n",
       "      <td>بنفش</td>\n",
       "      <td>بزی</td>\n",
       "    </tr>\n",
       "    <tr>\n",
       "      <th>ashia</th>\n",
       "      <td>651651</td>\n",
       "      <td>بمب</td>\n",
       "      <td>بمب</td>\n",
       "      <td>بیب بیب</td>\n",
       "    </tr>\n",
       "    <tr>\n",
       "      <th>ghaza</th>\n",
       "      <td>باقالیپلو</td>\n",
       "      <td>باقالیپلو</td>\n",
       "      <td>باقی</td>\n",
       "      <td>باشماق</td>\n",
       "    </tr>\n",
       "  </tbody>\n",
       "</table>\n",
       "</div>"
      ],
      "text/plain": [
       "             salib       meli     ali      yasi\n",
       "esm          بردیا              بردیا     بردار\n",
       "famil       بابایی       بانی  بابایی  بابازاده\n",
       "keshvar   باربادوس   باربادوس  باهاما     بارسا\n",
       "rang          بنفش       بنفش    بنفش       بزی\n",
       "ashia       651651        بمب     بمب   بیب بیب\n",
       "ghaza    باقالیپلو  باقالیپلو    باقی    باشماق"
      ]
     },
     "execution_count": 97,
     "metadata": {},
     "output_type": "execute_result"
    }
   ],
   "source": [
    "data.apply(calculate_all, axis=1)"
   ]
  },
  {
   "cell_type": "code",
   "execution_count": 98,
   "id": "13a6070c-ff44-423d-b0aa-f15ec9c2a195",
   "metadata": {},
   "outputs": [
    {
     "data": {
      "text/plain": [
       "{'salib': 25, 'meli': 25, 'ali': 35, 'yasi': 0}"
      ]
     },
     "execution_count": 98,
     "metadata": {},
     "output_type": "execute_result"
    }
   ],
   "source": [
    "players_score"
   ]
  },
  {
   "cell_type": "markdown",
   "id": "436efd59-47ba-4c25-aa49-ba92df604cf9",
   "metadata": {},
   "source": []
  },
  {
   "cell_type": "code",
   "execution_count": null,
   "id": "c2ec8301-bc44-4f48-b2b2-ba5f11144bf0",
   "metadata": {},
   "outputs": [],
   "source": []
  },
  {
   "cell_type": "code",
   "execution_count": null,
   "id": "56744342-8c0a-4bd3-ba46-360406528dfd",
   "metadata": {},
   "outputs": [],
   "source": []
  }
 ],
 "metadata": {
  "kernelspec": {
   "display_name": "Python 3 (ipykernel)",
   "language": "python",
   "name": "python3"
  },
  "language_info": {
   "codemirror_mode": {
    "name": "ipython",
    "version": 3
   },
   "file_extension": ".py",
   "mimetype": "text/x-python",
   "name": "python",
   "nbconvert_exporter": "python",
   "pygments_lexer": "ipython3",
   "version": "3.11.4"
  }
 },
 "nbformat": 4,
 "nbformat_minor": 5
}
