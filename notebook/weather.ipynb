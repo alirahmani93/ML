{
 "cells": [
  {
   "cell_type": "code",
   "execution_count": 52,
   "id": "initial_id",
   "metadata": {
    "collapsed": true,
    "ExecuteTime": {
     "end_time": "2024-01-20T23:47:30.589014609Z",
     "start_time": "2024-01-20T23:47:30.583595313Z"
    }
   },
   "outputs": [],
   "source": [
    "import pandas as pd\n",
    "import matplotlib.pyplot as plt\n",
    "import seaborn as sns\n",
    "import sklearn"
   ]
  },
  {
   "cell_type": "code",
   "execution_count": 53,
   "outputs": [
    {
     "data": {
      "text/plain": "        id                                               name       year  \\\n0     1872                                               ردیف  1404-1405   \n1     1873                                                  1  1404-1405   \n2     1874                                                  2  1404-1405   \n3     1875                                                  3  1404-1405   \n4     1876                                         \\r\\n\\t\\t\\t  1404-1405   \n...    ...                                                ...        ...   \n1712  3584                                         \\r\\n\\t\\t\\t  1403-1404   \n1713  3585                                         \\r\\n\\t\\t\\t  1403-1404   \n1714  3586                                         \\r\\n\\t\\t\\t  1403-1404   \n1715  3587  http://qmrw.ir/uploaded_files/DCMS/wysiwyg/fil...  1403-1404   \n1716  3588                                                  -  1403-1404   \n\n      height  longitude  latitude  average  mehr  aban  azar  dey  bahman  \\\n0         -1       -1.0      -1.0     -1.0  -1.0  -1.0  -1.0 -1.0    -1.0   \n1         -1       20.0      -1.0     -1.0  -1.0  -1.0  -1.0 -1.0    -1.0   \n2         -1       30.0      -1.0     -1.0  -1.0  -1.0  -1.0 -1.0    -1.0   \n3         -1       -1.0      -1.0     -1.0  -1.0  -1.0  -1.0 -1.0    -1.0   \n4         -1       -1.0      -1.0     -1.0  -1.0  -1.0  -1.0 -1.0    -1.0   \n...      ...        ...       ...      ...   ...   ...   ...  ...     ...   \n1712      -1       -1.0      -1.0     -1.0  -1.0  -1.0  -1.0 -1.0    -1.0   \n1713      -1       -1.0      -1.0     -1.0  -1.0  -1.0  -1.0 -1.0    -1.0   \n1714      -1       -1.0      -1.0     -1.0  -1.0  -1.0  -1.0 -1.0    -1.0   \n1715      -1       -1.0      -1.0     -1.0  -1.0  -1.0  -1.0 -1.0    -1.0   \n1716      -1       -1.0      -1.0     -1.0  -1.0  -1.0  -1.0 -1.0    -1.0   \n\n      esfand  farvardin  ordibehesht  khordad  tir  mordad  sharivar  \\\n0       -1.0       -1.0         -1.0     -1.0 -1.0    -1.0      -1.0   \n1       -1.0       -1.0         -1.0     -1.0 -1.0    -1.0      -1.0   \n2       -1.0       -1.0         -1.0     -1.0 -1.0    -1.0      -1.0   \n3       -1.0       -1.0         -1.0     -1.0 -1.0    -1.0      -1.0   \n4       -1.0       -1.0         -1.0     -1.0 -1.0    -1.0      -1.0   \n...      ...        ...          ...      ...  ...     ...       ...   \n1712    -1.0       -1.0         -1.0     -1.0 -1.0    -1.0      -1.0   \n1713    -1.0       -1.0         -1.0     -1.0 -1.0    -1.0      -1.0   \n1714    -1.0       -1.0         -1.0     -1.0 -1.0    -1.0      -1.0   \n1715    -1.0       -1.0         -1.0     -1.0 -1.0    -1.0      -1.0   \n1716    -1.0       -1.0         -1.0     -1.0 -1.0    -1.0      -1.0   \n\n                      site  \n0                           \n1                           \n2                           \n3                           \n4                           \n...                    ...  \n1712  https://www.ilrw.ir/  \n1713  https://www.ilrw.ir/  \n1714  https://www.ilrw.ir/  \n1715  https://www.kdrw.ir/  \n1716  https://www.kdrw.ir/  \n\n[1717 rows x 20 columns]",
      "text/html": "<div>\n<style scoped>\n    .dataframe tbody tr th:only-of-type {\n        vertical-align: middle;\n    }\n\n    .dataframe tbody tr th {\n        vertical-align: top;\n    }\n\n    .dataframe thead th {\n        text-align: right;\n    }\n</style>\n<table border=\"1\" class=\"dataframe\">\n  <thead>\n    <tr style=\"text-align: right;\">\n      <th></th>\n      <th>id</th>\n      <th>name</th>\n      <th>year</th>\n      <th>height</th>\n      <th>longitude</th>\n      <th>latitude</th>\n      <th>average</th>\n      <th>mehr</th>\n      <th>aban</th>\n      <th>azar</th>\n      <th>dey</th>\n      <th>bahman</th>\n      <th>esfand</th>\n      <th>farvardin</th>\n      <th>ordibehesht</th>\n      <th>khordad</th>\n      <th>tir</th>\n      <th>mordad</th>\n      <th>sharivar</th>\n      <th>site</th>\n    </tr>\n  </thead>\n  <tbody>\n    <tr>\n      <th>0</th>\n      <td>1872</td>\n      <td>ردیف</td>\n      <td>1404-1405</td>\n      <td>-1</td>\n      <td>-1.0</td>\n      <td>-1.0</td>\n      <td>-1.0</td>\n      <td>-1.0</td>\n      <td>-1.0</td>\n      <td>-1.0</td>\n      <td>-1.0</td>\n      <td>-1.0</td>\n      <td>-1.0</td>\n      <td>-1.0</td>\n      <td>-1.0</td>\n      <td>-1.0</td>\n      <td>-1.0</td>\n      <td>-1.0</td>\n      <td>-1.0</td>\n      <td></td>\n    </tr>\n    <tr>\n      <th>1</th>\n      <td>1873</td>\n      <td>1</td>\n      <td>1404-1405</td>\n      <td>-1</td>\n      <td>20.0</td>\n      <td>-1.0</td>\n      <td>-1.0</td>\n      <td>-1.0</td>\n      <td>-1.0</td>\n      <td>-1.0</td>\n      <td>-1.0</td>\n      <td>-1.0</td>\n      <td>-1.0</td>\n      <td>-1.0</td>\n      <td>-1.0</td>\n      <td>-1.0</td>\n      <td>-1.0</td>\n      <td>-1.0</td>\n      <td>-1.0</td>\n      <td></td>\n    </tr>\n    <tr>\n      <th>2</th>\n      <td>1874</td>\n      <td>2</td>\n      <td>1404-1405</td>\n      <td>-1</td>\n      <td>30.0</td>\n      <td>-1.0</td>\n      <td>-1.0</td>\n      <td>-1.0</td>\n      <td>-1.0</td>\n      <td>-1.0</td>\n      <td>-1.0</td>\n      <td>-1.0</td>\n      <td>-1.0</td>\n      <td>-1.0</td>\n      <td>-1.0</td>\n      <td>-1.0</td>\n      <td>-1.0</td>\n      <td>-1.0</td>\n      <td>-1.0</td>\n      <td></td>\n    </tr>\n    <tr>\n      <th>3</th>\n      <td>1875</td>\n      <td>3</td>\n      <td>1404-1405</td>\n      <td>-1</td>\n      <td>-1.0</td>\n      <td>-1.0</td>\n      <td>-1.0</td>\n      <td>-1.0</td>\n      <td>-1.0</td>\n      <td>-1.0</td>\n      <td>-1.0</td>\n      <td>-1.0</td>\n      <td>-1.0</td>\n      <td>-1.0</td>\n      <td>-1.0</td>\n      <td>-1.0</td>\n      <td>-1.0</td>\n      <td>-1.0</td>\n      <td>-1.0</td>\n      <td></td>\n    </tr>\n    <tr>\n      <th>4</th>\n      <td>1876</td>\n      <td>\\r\\n\\t\\t\\t</td>\n      <td>1404-1405</td>\n      <td>-1</td>\n      <td>-1.0</td>\n      <td>-1.0</td>\n      <td>-1.0</td>\n      <td>-1.0</td>\n      <td>-1.0</td>\n      <td>-1.0</td>\n      <td>-1.0</td>\n      <td>-1.0</td>\n      <td>-1.0</td>\n      <td>-1.0</td>\n      <td>-1.0</td>\n      <td>-1.0</td>\n      <td>-1.0</td>\n      <td>-1.0</td>\n      <td>-1.0</td>\n      <td></td>\n    </tr>\n    <tr>\n      <th>...</th>\n      <td>...</td>\n      <td>...</td>\n      <td>...</td>\n      <td>...</td>\n      <td>...</td>\n      <td>...</td>\n      <td>...</td>\n      <td>...</td>\n      <td>...</td>\n      <td>...</td>\n      <td>...</td>\n      <td>...</td>\n      <td>...</td>\n      <td>...</td>\n      <td>...</td>\n      <td>...</td>\n      <td>...</td>\n      <td>...</td>\n      <td>...</td>\n      <td>...</td>\n    </tr>\n    <tr>\n      <th>1712</th>\n      <td>3584</td>\n      <td>\\r\\n\\t\\t\\t</td>\n      <td>1403-1404</td>\n      <td>-1</td>\n      <td>-1.0</td>\n      <td>-1.0</td>\n      <td>-1.0</td>\n      <td>-1.0</td>\n      <td>-1.0</td>\n      <td>-1.0</td>\n      <td>-1.0</td>\n      <td>-1.0</td>\n      <td>-1.0</td>\n      <td>-1.0</td>\n      <td>-1.0</td>\n      <td>-1.0</td>\n      <td>-1.0</td>\n      <td>-1.0</td>\n      <td>-1.0</td>\n      <td>https://www.ilrw.ir/</td>\n    </tr>\n    <tr>\n      <th>1713</th>\n      <td>3585</td>\n      <td>\\r\\n\\t\\t\\t</td>\n      <td>1403-1404</td>\n      <td>-1</td>\n      <td>-1.0</td>\n      <td>-1.0</td>\n      <td>-1.0</td>\n      <td>-1.0</td>\n      <td>-1.0</td>\n      <td>-1.0</td>\n      <td>-1.0</td>\n      <td>-1.0</td>\n      <td>-1.0</td>\n      <td>-1.0</td>\n      <td>-1.0</td>\n      <td>-1.0</td>\n      <td>-1.0</td>\n      <td>-1.0</td>\n      <td>-1.0</td>\n      <td>https://www.ilrw.ir/</td>\n    </tr>\n    <tr>\n      <th>1714</th>\n      <td>3586</td>\n      <td>\\r\\n\\t\\t\\t</td>\n      <td>1403-1404</td>\n      <td>-1</td>\n      <td>-1.0</td>\n      <td>-1.0</td>\n      <td>-1.0</td>\n      <td>-1.0</td>\n      <td>-1.0</td>\n      <td>-1.0</td>\n      <td>-1.0</td>\n      <td>-1.0</td>\n      <td>-1.0</td>\n      <td>-1.0</td>\n      <td>-1.0</td>\n      <td>-1.0</td>\n      <td>-1.0</td>\n      <td>-1.0</td>\n      <td>-1.0</td>\n      <td>https://www.ilrw.ir/</td>\n    </tr>\n    <tr>\n      <th>1715</th>\n      <td>3587</td>\n      <td>http://qmrw.ir/uploaded_files/DCMS/wysiwyg/fil...</td>\n      <td>1403-1404</td>\n      <td>-1</td>\n      <td>-1.0</td>\n      <td>-1.0</td>\n      <td>-1.0</td>\n      <td>-1.0</td>\n      <td>-1.0</td>\n      <td>-1.0</td>\n      <td>-1.0</td>\n      <td>-1.0</td>\n      <td>-1.0</td>\n      <td>-1.0</td>\n      <td>-1.0</td>\n      <td>-1.0</td>\n      <td>-1.0</td>\n      <td>-1.0</td>\n      <td>-1.0</td>\n      <td>https://www.kdrw.ir/</td>\n    </tr>\n    <tr>\n      <th>1716</th>\n      <td>3588</td>\n      <td>-</td>\n      <td>1403-1404</td>\n      <td>-1</td>\n      <td>-1.0</td>\n      <td>-1.0</td>\n      <td>-1.0</td>\n      <td>-1.0</td>\n      <td>-1.0</td>\n      <td>-1.0</td>\n      <td>-1.0</td>\n      <td>-1.0</td>\n      <td>-1.0</td>\n      <td>-1.0</td>\n      <td>-1.0</td>\n      <td>-1.0</td>\n      <td>-1.0</td>\n      <td>-1.0</td>\n      <td>-1.0</td>\n      <td>https://www.kdrw.ir/</td>\n    </tr>\n  </tbody>\n</table>\n<p>1717 rows × 20 columns</p>\n</div>"
     },
     "execution_count": 53,
     "metadata": {},
     "output_type": "execute_result"
    }
   ],
   "source": [
    "df = pd.read_json('../datasets/my_file.json')\n",
    "df"
   ],
   "metadata": {
    "collapsed": false,
    "ExecuteTime": {
     "end_time": "2024-01-20T23:47:31.033385310Z",
     "start_time": "2024-01-20T23:47:30.972329223Z"
    }
   },
   "id": "770f043bcc01ac3"
  },
  {
   "cell_type": "code",
   "execution_count": 63,
   "outputs": [],
   "source": [
    "# Remove Wrong crawled data\n",
    "df = df.loc[~(\n",
    "        (df['mehr'] == -1) &\n",
    "        (df['aban'] == -1) &\n",
    "        (df['azar'] == -1) &\n",
    "        (df['dey'] == -1) &\n",
    "        (df['bahman'] == -1) &\n",
    "        (df['esfand'] == -1) &\n",
    "        (df['farvardin'] == -1) &\n",
    "        (df['ordibehesht'] == -1) &\n",
    "        (df['khordad'] == -1) &\n",
    "        (df['tir'] == -1) &\n",
    "        (df['mordad'] == -1) &\n",
    "        (df['sharivar'] == -1)\n",
    ")\n",
    "]\n"
   ],
   "metadata": {
    "collapsed": false,
    "ExecuteTime": {
     "end_time": "2024-01-20T23:51:49.892674928Z",
     "start_time": "2024-01-20T23:51:49.848606865Z"
    }
   },
   "id": "2483e0063935f6f"
  },
  {
   "cell_type": "code",
   "execution_count": 64,
   "outputs": [
    {
     "data": {
      "text/plain": "        id                 name       year  height  longitude   latitude  \\\n16    1888              خیرآباد  1390-1391    1095  53.251163  35.322337   \n17    1889            ده صوفیان  1390-1391     831  53.234400  35.490200   \n18    1890  دامغان-دانشگاه آزاد  1390-1391    1186  54.184076  36.100600   \n19    1891      آستانه (دامغان)  1390-1391     942  54.055700  36.160500   \n20    1892        چهارده دامغان  1390-1391    1816  54.131154  36.245736   \n...    ...                  ...        ...     ...        ...        ...   \n1703  3575                  وسج  1403-1404    1566  48.223138  34.323728   \n1704  3576               وراینه  1403-1404    1795  48.404136  34.075465   \n1705  3577             آق کهریز  1403-1404    1844  48.331079  34.990514   \n1706  3578               قهاوند  1403-1404    1554  49.003825  34.860865   \n1707  3579               خمیگان  1403-1404    1869  49.022044  35.371977   \n\n      average  mehr  aban  azar  dey  bahman  esfand  farvardin  ordibehesht  \\\n16        6.0  -1.0  51.0   6.5 -1.0    -1.0     6.0       23.0         11.5   \n17      234.0  -1.0  -1.0  -1.0 -1.0    -1.0    -1.0       69.0         36.0   \n18      110.0  -1.0  -1.0  -1.0 -1.0    -1.0    -1.0       12.0          1.5   \n19      124.0  -1.0  -1.0  -1.0 -1.0    -1.0    -1.0       25.0         17.0   \n20      144.0  -1.0  -1.0  -1.0 -1.0    -1.0    12.5       26.0         28.5   \n...       ...   ...   ...   ...  ...     ...     ...        ...          ...   \n1703    469.0  11.0  59.0   4.0 -1.0    -1.0    -1.0       -1.0         -1.0   \n1704    543.0  14.0  59.0   4.5 -1.0    -1.0    -1.0       -1.0         -1.0   \n1705    320.0   7.5  57.5   5.0 -1.0    -1.0    -1.0       -1.0         -1.0   \n1706    246.0   1.0  55.5   3.5 -1.0    -1.0    -1.0       -1.0         -1.0   \n1707    286.0   6.5  52.0  15.5 -1.0    -1.0    -1.0       -1.0         -1.0   \n\n      khordad   tir  mordad  sharivar                  site  \n16        1.0   5.0    -1.0      13.5  https://www.glrw.ir/  \n17        9.0  11.5    -1.0       4.0  https://www.glrw.ir/  \n18        4.5   4.0    -1.0       6.0  https://www.lsrw.ir/  \n19        7.5   8.5    -1.0      10.5  https://www.lsrw.ir/  \n20       11.0   4.0    -1.0       4.0  https://www.lsrw.ir/  \n...       ...   ...     ...       ...                   ...  \n1703     -1.0  -1.0    -1.0      -1.0   http://www.agrw.ir/  \n1704     -1.0  -1.0    -1.0      -1.0   http://www.agrw.ir/  \n1705     -1.0  -1.0    -1.0      -1.0   http://www.glrw.ir/  \n1706     -1.0  -1.0    -1.0      -1.0   http://www.glrw.ir/  \n1707     -1.0  -1.0    -1.0      -1.0   http://www.glrw.ir/  \n\n[1558 rows x 20 columns]",
      "text/html": "<div>\n<style scoped>\n    .dataframe tbody tr th:only-of-type {\n        vertical-align: middle;\n    }\n\n    .dataframe tbody tr th {\n        vertical-align: top;\n    }\n\n    .dataframe thead th {\n        text-align: right;\n    }\n</style>\n<table border=\"1\" class=\"dataframe\">\n  <thead>\n    <tr style=\"text-align: right;\">\n      <th></th>\n      <th>id</th>\n      <th>name</th>\n      <th>year</th>\n      <th>height</th>\n      <th>longitude</th>\n      <th>latitude</th>\n      <th>average</th>\n      <th>mehr</th>\n      <th>aban</th>\n      <th>azar</th>\n      <th>dey</th>\n      <th>bahman</th>\n      <th>esfand</th>\n      <th>farvardin</th>\n      <th>ordibehesht</th>\n      <th>khordad</th>\n      <th>tir</th>\n      <th>mordad</th>\n      <th>sharivar</th>\n      <th>site</th>\n    </tr>\n  </thead>\n  <tbody>\n    <tr>\n      <th>16</th>\n      <td>1888</td>\n      <td>خیرآباد</td>\n      <td>1390-1391</td>\n      <td>1095</td>\n      <td>53.251163</td>\n      <td>35.322337</td>\n      <td>6.0</td>\n      <td>-1.0</td>\n      <td>51.0</td>\n      <td>6.5</td>\n      <td>-1.0</td>\n      <td>-1.0</td>\n      <td>6.0</td>\n      <td>23.0</td>\n      <td>11.5</td>\n      <td>1.0</td>\n      <td>5.0</td>\n      <td>-1.0</td>\n      <td>13.5</td>\n      <td>https://www.glrw.ir/</td>\n    </tr>\n    <tr>\n      <th>17</th>\n      <td>1889</td>\n      <td>ده صوفیان</td>\n      <td>1390-1391</td>\n      <td>831</td>\n      <td>53.234400</td>\n      <td>35.490200</td>\n      <td>234.0</td>\n      <td>-1.0</td>\n      <td>-1.0</td>\n      <td>-1.0</td>\n      <td>-1.0</td>\n      <td>-1.0</td>\n      <td>-1.0</td>\n      <td>69.0</td>\n      <td>36.0</td>\n      <td>9.0</td>\n      <td>11.5</td>\n      <td>-1.0</td>\n      <td>4.0</td>\n      <td>https://www.glrw.ir/</td>\n    </tr>\n    <tr>\n      <th>18</th>\n      <td>1890</td>\n      <td>دامغان-دانشگاه آزاد</td>\n      <td>1390-1391</td>\n      <td>1186</td>\n      <td>54.184076</td>\n      <td>36.100600</td>\n      <td>110.0</td>\n      <td>-1.0</td>\n      <td>-1.0</td>\n      <td>-1.0</td>\n      <td>-1.0</td>\n      <td>-1.0</td>\n      <td>-1.0</td>\n      <td>12.0</td>\n      <td>1.5</td>\n      <td>4.5</td>\n      <td>4.0</td>\n      <td>-1.0</td>\n      <td>6.0</td>\n      <td>https://www.lsrw.ir/</td>\n    </tr>\n    <tr>\n      <th>19</th>\n      <td>1891</td>\n      <td>آستانه (دامغان)</td>\n      <td>1390-1391</td>\n      <td>942</td>\n      <td>54.055700</td>\n      <td>36.160500</td>\n      <td>124.0</td>\n      <td>-1.0</td>\n      <td>-1.0</td>\n      <td>-1.0</td>\n      <td>-1.0</td>\n      <td>-1.0</td>\n      <td>-1.0</td>\n      <td>25.0</td>\n      <td>17.0</td>\n      <td>7.5</td>\n      <td>8.5</td>\n      <td>-1.0</td>\n      <td>10.5</td>\n      <td>https://www.lsrw.ir/</td>\n    </tr>\n    <tr>\n      <th>20</th>\n      <td>1892</td>\n      <td>چهارده دامغان</td>\n      <td>1390-1391</td>\n      <td>1816</td>\n      <td>54.131154</td>\n      <td>36.245736</td>\n      <td>144.0</td>\n      <td>-1.0</td>\n      <td>-1.0</td>\n      <td>-1.0</td>\n      <td>-1.0</td>\n      <td>-1.0</td>\n      <td>12.5</td>\n      <td>26.0</td>\n      <td>28.5</td>\n      <td>11.0</td>\n      <td>4.0</td>\n      <td>-1.0</td>\n      <td>4.0</td>\n      <td>https://www.lsrw.ir/</td>\n    </tr>\n    <tr>\n      <th>...</th>\n      <td>...</td>\n      <td>...</td>\n      <td>...</td>\n      <td>...</td>\n      <td>...</td>\n      <td>...</td>\n      <td>...</td>\n      <td>...</td>\n      <td>...</td>\n      <td>...</td>\n      <td>...</td>\n      <td>...</td>\n      <td>...</td>\n      <td>...</td>\n      <td>...</td>\n      <td>...</td>\n      <td>...</td>\n      <td>...</td>\n      <td>...</td>\n      <td>...</td>\n    </tr>\n    <tr>\n      <th>1703</th>\n      <td>3575</td>\n      <td>وسج</td>\n      <td>1403-1404</td>\n      <td>1566</td>\n      <td>48.223138</td>\n      <td>34.323728</td>\n      <td>469.0</td>\n      <td>11.0</td>\n      <td>59.0</td>\n      <td>4.0</td>\n      <td>-1.0</td>\n      <td>-1.0</td>\n      <td>-1.0</td>\n      <td>-1.0</td>\n      <td>-1.0</td>\n      <td>-1.0</td>\n      <td>-1.0</td>\n      <td>-1.0</td>\n      <td>-1.0</td>\n      <td>http://www.agrw.ir/</td>\n    </tr>\n    <tr>\n      <th>1704</th>\n      <td>3576</td>\n      <td>وراینه</td>\n      <td>1403-1404</td>\n      <td>1795</td>\n      <td>48.404136</td>\n      <td>34.075465</td>\n      <td>543.0</td>\n      <td>14.0</td>\n      <td>59.0</td>\n      <td>4.5</td>\n      <td>-1.0</td>\n      <td>-1.0</td>\n      <td>-1.0</td>\n      <td>-1.0</td>\n      <td>-1.0</td>\n      <td>-1.0</td>\n      <td>-1.0</td>\n      <td>-1.0</td>\n      <td>-1.0</td>\n      <td>http://www.agrw.ir/</td>\n    </tr>\n    <tr>\n      <th>1705</th>\n      <td>3577</td>\n      <td>آق کهریز</td>\n      <td>1403-1404</td>\n      <td>1844</td>\n      <td>48.331079</td>\n      <td>34.990514</td>\n      <td>320.0</td>\n      <td>7.5</td>\n      <td>57.5</td>\n      <td>5.0</td>\n      <td>-1.0</td>\n      <td>-1.0</td>\n      <td>-1.0</td>\n      <td>-1.0</td>\n      <td>-1.0</td>\n      <td>-1.0</td>\n      <td>-1.0</td>\n      <td>-1.0</td>\n      <td>-1.0</td>\n      <td>http://www.glrw.ir/</td>\n    </tr>\n    <tr>\n      <th>1706</th>\n      <td>3578</td>\n      <td>قهاوند</td>\n      <td>1403-1404</td>\n      <td>1554</td>\n      <td>49.003825</td>\n      <td>34.860865</td>\n      <td>246.0</td>\n      <td>1.0</td>\n      <td>55.5</td>\n      <td>3.5</td>\n      <td>-1.0</td>\n      <td>-1.0</td>\n      <td>-1.0</td>\n      <td>-1.0</td>\n      <td>-1.0</td>\n      <td>-1.0</td>\n      <td>-1.0</td>\n      <td>-1.0</td>\n      <td>-1.0</td>\n      <td>http://www.glrw.ir/</td>\n    </tr>\n    <tr>\n      <th>1707</th>\n      <td>3579</td>\n      <td>خمیگان</td>\n      <td>1403-1404</td>\n      <td>1869</td>\n      <td>49.022044</td>\n      <td>35.371977</td>\n      <td>286.0</td>\n      <td>6.5</td>\n      <td>52.0</td>\n      <td>15.5</td>\n      <td>-1.0</td>\n      <td>-1.0</td>\n      <td>-1.0</td>\n      <td>-1.0</td>\n      <td>-1.0</td>\n      <td>-1.0</td>\n      <td>-1.0</td>\n      <td>-1.0</td>\n      <td>-1.0</td>\n      <td>http://www.glrw.ir/</td>\n    </tr>\n  </tbody>\n</table>\n<p>1558 rows × 20 columns</p>\n</div>"
     },
     "execution_count": 64,
     "metadata": {},
     "output_type": "execute_result"
    }
   ],
   "source": [],
   "metadata": {
    "collapsed": false,
    "ExecuteTime": {
     "end_time": "2024-01-20T23:51:50.331438096Z",
     "start_time": "2024-01-20T23:51:50.325755926Z"
    }
   },
   "id": "ac248c1a18ab3d69"
  },
  {
   "cell_type": "code",
   "execution_count": 57,
   "outputs": [],
   "source": [],
   "metadata": {
    "collapsed": false,
    "ExecuteTime": {
     "end_time": "2024-01-20T23:48:04.861818394Z",
     "start_time": "2024-01-20T23:48:04.851800783Z"
    }
   },
   "id": "705716160a13884a"
  },
  {
   "cell_type": "code",
   "execution_count": 58,
   "outputs": [
    {
     "name": "stdout",
     "output_type": "stream",
     "text": [
      "<class 'pandas.core.frame.DataFrame'>\n",
      "Index: 1558 entries, 16 to 1707\n",
      "Data columns (total 20 columns):\n",
      " #   Column       Non-Null Count  Dtype  \n",
      "---  ------       --------------  -----  \n",
      " 0   id           1558 non-null   int64  \n",
      " 1   name         1558 non-null   object \n",
      " 2   year         1558 non-null   object \n",
      " 3   height       1558 non-null   int64  \n",
      " 4   longitude    1558 non-null   float64\n",
      " 5   latitude     1558 non-null   float64\n",
      " 6   average      1558 non-null   float64\n",
      " 7   mehr         1558 non-null   float64\n",
      " 8   aban         1558 non-null   float64\n",
      " 9   azar         1558 non-null   float64\n",
      " 10  dey          1558 non-null   float64\n",
      " 11  bahman       1558 non-null   float64\n",
      " 12  esfand       1558 non-null   float64\n",
      " 13  farvardin    1558 non-null   float64\n",
      " 14  ordibehesht  1558 non-null   float64\n",
      " 15  khordad      1558 non-null   float64\n",
      " 16  tir          1558 non-null   float64\n",
      " 17  mordad       1558 non-null   float64\n",
      " 18  sharivar     1558 non-null   float64\n",
      " 19  site         1558 non-null   object \n",
      "dtypes: float64(15), int64(2), object(3)\n",
      "memory usage: 255.6+ KB\n"
     ]
    }
   ],
   "source": [
    "df.info()"
   ],
   "metadata": {
    "collapsed": false,
    "ExecuteTime": {
     "end_time": "2024-01-20T23:48:05.041524783Z",
     "start_time": "2024-01-20T23:48:05.028502091Z"
    }
   },
   "id": "c4c5839280c62167"
  },
  {
   "cell_type": "code",
   "execution_count": 59,
   "outputs": [
    {
     "data": {
      "text/plain": "                id       height      longitude      latitude      average  \\\ncount  1558.000000  1558.000000    1558.000000  1.558000e+03  1558.000000   \nmean   2732.792041  1213.948652  138852.241221  9.277211e+05   224.404942   \nstd     484.869632   602.619643  209623.556457  1.611946e+06   203.096799   \nmin    1888.000000     0.000000     -78.000000 -7.900000e+01     0.000000   \n25%    2325.250000   942.000000       0.000000  0.000000e+00    90.400000   \n50%    2718.500000  1338.000000       0.000000  0.000000e+00   173.300000   \n75%    3153.750000  1611.000000  360123.000000  3.601280e+05   294.000000   \nmax    3579.000000  2600.000000  621713.000000  4.196220e+06  1170.000000   \n\n              mehr         aban         azar          dey       bahman  \\\ncount  1558.000000  1558.000000  1558.000000  1558.000000  1558.000000   \nmean     16.224069    43.143838    41.817073    31.062805    38.644929   \nstd      44.182836    51.543834    49.156300    42.049135    45.366236   \nmin      -1.000000    -1.000000    -1.000000    -1.000000    -1.000000   \n25%      -1.000000     9.500000     7.000000     5.000000     5.000000   \n50%       4.000000    28.000000    25.000000    17.000000    26.500000   \n75%      15.500000    57.000000    59.075000    39.000000    53.000000   \nmax     477.500000   449.800000   331.700000   393.000000   310.200000   \n\n            esfand    farvardin  ordibehesht      khordad          tir  \\\ncount  1558.000000  1558.000000  1558.000000  1558.000000  1558.000000   \nmean     34.341110    48.154236    31.512291     8.479782     4.966087   \nstd      34.883589    51.745218    34.431268    17.947086    18.720273   \nmin      -1.000000    -1.000000    -1.000000    -1.000000    -1.000000   \n25%       8.000000     6.500000     1.850000    -1.000000    -1.000000   \n50%      26.000000    33.000000    23.000000     0.200000    -1.000000   \n75%      50.975000    75.675000    47.575000     9.000000     3.000000   \nmax     218.000000   351.000000   199.100000   169.500000   277.500000   \n\n            mordad     sharivar  \ncount  1558.000000  1558.000000  \nmean      3.384018     5.353081  \nstd      12.195598    25.883435  \nmin      -1.000000    -1.000000  \n25%      -1.000000    -1.000000  \n50%      -1.000000    -1.000000  \n75%       1.875000     0.000000  \nmax     145.300000   261.000000  ",
      "text/html": "<div>\n<style scoped>\n    .dataframe tbody tr th:only-of-type {\n        vertical-align: middle;\n    }\n\n    .dataframe tbody tr th {\n        vertical-align: top;\n    }\n\n    .dataframe thead th {\n        text-align: right;\n    }\n</style>\n<table border=\"1\" class=\"dataframe\">\n  <thead>\n    <tr style=\"text-align: right;\">\n      <th></th>\n      <th>id</th>\n      <th>height</th>\n      <th>longitude</th>\n      <th>latitude</th>\n      <th>average</th>\n      <th>mehr</th>\n      <th>aban</th>\n      <th>azar</th>\n      <th>dey</th>\n      <th>bahman</th>\n      <th>esfand</th>\n      <th>farvardin</th>\n      <th>ordibehesht</th>\n      <th>khordad</th>\n      <th>tir</th>\n      <th>mordad</th>\n      <th>sharivar</th>\n    </tr>\n  </thead>\n  <tbody>\n    <tr>\n      <th>count</th>\n      <td>1558.000000</td>\n      <td>1558.000000</td>\n      <td>1558.000000</td>\n      <td>1.558000e+03</td>\n      <td>1558.000000</td>\n      <td>1558.000000</td>\n      <td>1558.000000</td>\n      <td>1558.000000</td>\n      <td>1558.000000</td>\n      <td>1558.000000</td>\n      <td>1558.000000</td>\n      <td>1558.000000</td>\n      <td>1558.000000</td>\n      <td>1558.000000</td>\n      <td>1558.000000</td>\n      <td>1558.000000</td>\n      <td>1558.000000</td>\n    </tr>\n    <tr>\n      <th>mean</th>\n      <td>2732.792041</td>\n      <td>1213.948652</td>\n      <td>138852.241221</td>\n      <td>9.277211e+05</td>\n      <td>224.404942</td>\n      <td>16.224069</td>\n      <td>43.143838</td>\n      <td>41.817073</td>\n      <td>31.062805</td>\n      <td>38.644929</td>\n      <td>34.341110</td>\n      <td>48.154236</td>\n      <td>31.512291</td>\n      <td>8.479782</td>\n      <td>4.966087</td>\n      <td>3.384018</td>\n      <td>5.353081</td>\n    </tr>\n    <tr>\n      <th>std</th>\n      <td>484.869632</td>\n      <td>602.619643</td>\n      <td>209623.556457</td>\n      <td>1.611946e+06</td>\n      <td>203.096799</td>\n      <td>44.182836</td>\n      <td>51.543834</td>\n      <td>49.156300</td>\n      <td>42.049135</td>\n      <td>45.366236</td>\n      <td>34.883589</td>\n      <td>51.745218</td>\n      <td>34.431268</td>\n      <td>17.947086</td>\n      <td>18.720273</td>\n      <td>12.195598</td>\n      <td>25.883435</td>\n    </tr>\n    <tr>\n      <th>min</th>\n      <td>1888.000000</td>\n      <td>0.000000</td>\n      <td>-78.000000</td>\n      <td>-7.900000e+01</td>\n      <td>0.000000</td>\n      <td>-1.000000</td>\n      <td>-1.000000</td>\n      <td>-1.000000</td>\n      <td>-1.000000</td>\n      <td>-1.000000</td>\n      <td>-1.000000</td>\n      <td>-1.000000</td>\n      <td>-1.000000</td>\n      <td>-1.000000</td>\n      <td>-1.000000</td>\n      <td>-1.000000</td>\n      <td>-1.000000</td>\n    </tr>\n    <tr>\n      <th>25%</th>\n      <td>2325.250000</td>\n      <td>942.000000</td>\n      <td>0.000000</td>\n      <td>0.000000e+00</td>\n      <td>90.400000</td>\n      <td>-1.000000</td>\n      <td>9.500000</td>\n      <td>7.000000</td>\n      <td>5.000000</td>\n      <td>5.000000</td>\n      <td>8.000000</td>\n      <td>6.500000</td>\n      <td>1.850000</td>\n      <td>-1.000000</td>\n      <td>-1.000000</td>\n      <td>-1.000000</td>\n      <td>-1.000000</td>\n    </tr>\n    <tr>\n      <th>50%</th>\n      <td>2718.500000</td>\n      <td>1338.000000</td>\n      <td>0.000000</td>\n      <td>0.000000e+00</td>\n      <td>173.300000</td>\n      <td>4.000000</td>\n      <td>28.000000</td>\n      <td>25.000000</td>\n      <td>17.000000</td>\n      <td>26.500000</td>\n      <td>26.000000</td>\n      <td>33.000000</td>\n      <td>23.000000</td>\n      <td>0.200000</td>\n      <td>-1.000000</td>\n      <td>-1.000000</td>\n      <td>-1.000000</td>\n    </tr>\n    <tr>\n      <th>75%</th>\n      <td>3153.750000</td>\n      <td>1611.000000</td>\n      <td>360123.000000</td>\n      <td>3.601280e+05</td>\n      <td>294.000000</td>\n      <td>15.500000</td>\n      <td>57.000000</td>\n      <td>59.075000</td>\n      <td>39.000000</td>\n      <td>53.000000</td>\n      <td>50.975000</td>\n      <td>75.675000</td>\n      <td>47.575000</td>\n      <td>9.000000</td>\n      <td>3.000000</td>\n      <td>1.875000</td>\n      <td>0.000000</td>\n    </tr>\n    <tr>\n      <th>max</th>\n      <td>3579.000000</td>\n      <td>2600.000000</td>\n      <td>621713.000000</td>\n      <td>4.196220e+06</td>\n      <td>1170.000000</td>\n      <td>477.500000</td>\n      <td>449.800000</td>\n      <td>331.700000</td>\n      <td>393.000000</td>\n      <td>310.200000</td>\n      <td>218.000000</td>\n      <td>351.000000</td>\n      <td>199.100000</td>\n      <td>169.500000</td>\n      <td>277.500000</td>\n      <td>145.300000</td>\n      <td>261.000000</td>\n    </tr>\n  </tbody>\n</table>\n</div>"
     },
     "execution_count": 59,
     "metadata": {},
     "output_type": "execute_result"
    }
   ],
   "source": [
    "df.describe()"
   ],
   "metadata": {
    "collapsed": false,
    "ExecuteTime": {
     "end_time": "2024-01-20T23:48:05.566179663Z",
     "start_time": "2024-01-20T23:48:05.564252414Z"
    }
   },
   "id": "906204010ac2afb"
  },
  {
   "cell_type": "code",
   "execution_count": 60,
   "outputs": [],
   "source": [
    "def custom_group_by(group_by_col: str = 'year', func: str = 'mean'):\n",
    "    return df.groupby(group_by_col).agg(\n",
    "        mean_height=('height', func),\n",
    "        mean_longitude=('longitude', func),\n",
    "        mean_latitude=('latitude', func),\n",
    "        mean_average=('average', func),\n",
    "        mean_mehr=('mehr', func),\n",
    "        mean_aban=('aban', func),\n",
    "        mean_azar=('azar', func),\n",
    "        mean_dey=('dey', func),\n",
    "        mean_bahman=('bahman', func),\n",
    "        mean_esfand=('esfand', func),\n",
    "        mean_farvardin=('farvardin', func),\n",
    "        mean_ordibehesht=('ordibehesht', func),\n",
    "        mean_khordad=('khordad', func),\n",
    "        mean_tir=('tir', func),\n",
    "        mean_mordad=('mordad', func),\n",
    "        mean_sharivar=('sharivar', func),\n",
    "    )\n"
   ],
   "metadata": {
    "collapsed": false,
    "ExecuteTime": {
     "end_time": "2024-01-20T23:48:05.932858080Z",
     "start_time": "2024-01-20T23:48:05.841312161Z"
    }
   },
   "id": "c93f0890eeb6165"
  },
  {
   "cell_type": "code",
   "execution_count": 61,
   "outputs": [
    {
     "data": {
      "text/plain": "           mean_height  mean_longitude  mean_latitude  mean_average  \\\nyear                                                                  \n1390-1391  1300.769231   156756.639132   1.044219e+06    280.846154   \n1391-1392  1282.142857   145563.468866   9.696343e+05    270.642857   \n1392-1393   909.961538   451826.538462   2.957300e+06    462.000000   \n1393-1394   712.924528   289844.260746   1.995410e+06    289.283019   \n1394-1395  1093.801471   109178.536836   7.948711e+05    234.865441   \n1395-1396  1133.476190   101134.815635   7.030953e+05    224.642540   \n1396-1397  1307.338983   189124.707689   1.538938e+06    246.284633   \n1397-1398  1263.959302   161314.551123   1.141634e+06    240.925872   \n1398-1399  1325.131737   159041.153718   1.103683e+06    252.810838   \n1399-1400  1286.534884   151870.451575   8.472217e+05    206.407442   \n1400-1401  1159.390374   111787.222839   6.043108e+05    176.005561   \n1401-1402  1156.000000    90108.210268   5.516890e+05    179.779333   \n1402-1403  1369.000000    50610.983314   2.155044e+05    188.820155   \n1403-1404  1764.166667       48.597894   3.473041e+01    368.000000   \n\n           mean_mehr   mean_aban  mean_azar    mean_dey  mean_bahman  \\\nyear                                                                   \n1390-1391  -1.000000   45.846154  18.653846   15.038462    42.730769   \n1391-1392   4.142857   43.414286  70.485714   43.821429    30.907143   \n1392-1393  -1.000000  107.365385  61.038462  142.711538    39.788462   \n1393-1394  21.094340   21.220755  37.460377    6.886792    15.056604   \n1394-1395  28.517647   92.435294  36.305882   40.838603    32.420588   \n1395-1396  14.381746   34.853968  42.060317   15.146032    66.179365   \n1396-1397  18.227684   33.775141  22.366102   17.586441    58.406780   \n1397-1398  26.222093   67.537209  81.513953   52.715116    56.225000   \n1398-1399  15.286228   45.401198  56.879042   49.695210    45.957485   \n1399-1400  10.085465   31.427907  63.780814   13.658140    35.004651   \n1400-1401   9.958824   37.057219  33.630481   41.888235    19.566845   \n1401-1402   8.528333   23.880556  21.261111   21.511667    39.002222   \n1402-1403  23.133333   23.146512  11.731783   11.795349     2.034884   \n1403-1404   7.333333   56.500000   5.750000   -1.000000    -1.000000   \n\n           mean_esfand  mean_farvardin  mean_ordibehesht  mean_khordad  \\\nyear                                                                     \n1390-1391    15.207692       52.884615         19.815385      4.923077   \n1391-1392    29.521429       17.042857         23.192857      1.107143   \n1392-1393    39.500000       47.365385          0.096154     -0.923077   \n1393-1394    19.592453       25.666038          8.373585      0.215094   \n1394-1395    36.642647       64.160294         21.445956     18.151471   \n1395-1396    28.721429       54.506349         27.749206      2.372222   \n1396-1397    36.701130       46.988136         68.633333     25.038418   \n1397-1398    36.060465       92.025000         33.896512      9.556977   \n1398-1399    61.827545      103.197006         47.454491      4.531737   \n1399-1400    32.871512       21.495930         27.120349      3.472093   \n1400-1401    33.594652       13.081283         29.698396      2.797861   \n1401-1402    39.694167       45.453889         30.186111     13.605556   \n1402-1403     0.976744        1.662791          0.817829     -0.144961   \n1403-1404    -1.000000       -1.000000         -1.000000     -1.000000   \n\n            mean_tir  mean_mordad  mean_sharivar  \nyear                                              \n1390-1391   4.346154    -1.000000       3.961538  \n1391-1392  -0.035714    -0.092857       2.357143  \n1392-1393   1.192308     2.442308      -0.942308  \n1393-1394  10.406849     0.528302      16.226415  \n1394-1395  12.534559     3.972794      13.334559  \n1395-1396   2.084921     1.142857       2.887302  \n1396-1397   2.048023     2.526554       2.588701  \n1397-1398   6.981977     2.034302       7.830814  \n1398-1399   8.743114     6.203593       7.572455  \n1399-1400   5.752907     9.076744       2.177326  \n1400-1401   1.794652     4.285561       1.816043  \n1401-1402   5.036667     2.442222       8.805556  \n1402-1403  -0.914729    -0.918605      -0.930233  \n1403-1404  -1.000000    -1.000000      -1.000000  ",
      "text/html": "<div>\n<style scoped>\n    .dataframe tbody tr th:only-of-type {\n        vertical-align: middle;\n    }\n\n    .dataframe tbody tr th {\n        vertical-align: top;\n    }\n\n    .dataframe thead th {\n        text-align: right;\n    }\n</style>\n<table border=\"1\" class=\"dataframe\">\n  <thead>\n    <tr style=\"text-align: right;\">\n      <th></th>\n      <th>mean_height</th>\n      <th>mean_longitude</th>\n      <th>mean_latitude</th>\n      <th>mean_average</th>\n      <th>mean_mehr</th>\n      <th>mean_aban</th>\n      <th>mean_azar</th>\n      <th>mean_dey</th>\n      <th>mean_bahman</th>\n      <th>mean_esfand</th>\n      <th>mean_farvardin</th>\n      <th>mean_ordibehesht</th>\n      <th>mean_khordad</th>\n      <th>mean_tir</th>\n      <th>mean_mordad</th>\n      <th>mean_sharivar</th>\n    </tr>\n    <tr>\n      <th>year</th>\n      <th></th>\n      <th></th>\n      <th></th>\n      <th></th>\n      <th></th>\n      <th></th>\n      <th></th>\n      <th></th>\n      <th></th>\n      <th></th>\n      <th></th>\n      <th></th>\n      <th></th>\n      <th></th>\n      <th></th>\n      <th></th>\n    </tr>\n  </thead>\n  <tbody>\n    <tr>\n      <th>1390-1391</th>\n      <td>1300.769231</td>\n      <td>156756.639132</td>\n      <td>1.044219e+06</td>\n      <td>280.846154</td>\n      <td>-1.000000</td>\n      <td>45.846154</td>\n      <td>18.653846</td>\n      <td>15.038462</td>\n      <td>42.730769</td>\n      <td>15.207692</td>\n      <td>52.884615</td>\n      <td>19.815385</td>\n      <td>4.923077</td>\n      <td>4.346154</td>\n      <td>-1.000000</td>\n      <td>3.961538</td>\n    </tr>\n    <tr>\n      <th>1391-1392</th>\n      <td>1282.142857</td>\n      <td>145563.468866</td>\n      <td>9.696343e+05</td>\n      <td>270.642857</td>\n      <td>4.142857</td>\n      <td>43.414286</td>\n      <td>70.485714</td>\n      <td>43.821429</td>\n      <td>30.907143</td>\n      <td>29.521429</td>\n      <td>17.042857</td>\n      <td>23.192857</td>\n      <td>1.107143</td>\n      <td>-0.035714</td>\n      <td>-0.092857</td>\n      <td>2.357143</td>\n    </tr>\n    <tr>\n      <th>1392-1393</th>\n      <td>909.961538</td>\n      <td>451826.538462</td>\n      <td>2.957300e+06</td>\n      <td>462.000000</td>\n      <td>-1.000000</td>\n      <td>107.365385</td>\n      <td>61.038462</td>\n      <td>142.711538</td>\n      <td>39.788462</td>\n      <td>39.500000</td>\n      <td>47.365385</td>\n      <td>0.096154</td>\n      <td>-0.923077</td>\n      <td>1.192308</td>\n      <td>2.442308</td>\n      <td>-0.942308</td>\n    </tr>\n    <tr>\n      <th>1393-1394</th>\n      <td>712.924528</td>\n      <td>289844.260746</td>\n      <td>1.995410e+06</td>\n      <td>289.283019</td>\n      <td>21.094340</td>\n      <td>21.220755</td>\n      <td>37.460377</td>\n      <td>6.886792</td>\n      <td>15.056604</td>\n      <td>19.592453</td>\n      <td>25.666038</td>\n      <td>8.373585</td>\n      <td>0.215094</td>\n      <td>10.406849</td>\n      <td>0.528302</td>\n      <td>16.226415</td>\n    </tr>\n    <tr>\n      <th>1394-1395</th>\n      <td>1093.801471</td>\n      <td>109178.536836</td>\n      <td>7.948711e+05</td>\n      <td>234.865441</td>\n      <td>28.517647</td>\n      <td>92.435294</td>\n      <td>36.305882</td>\n      <td>40.838603</td>\n      <td>32.420588</td>\n      <td>36.642647</td>\n      <td>64.160294</td>\n      <td>21.445956</td>\n      <td>18.151471</td>\n      <td>12.534559</td>\n      <td>3.972794</td>\n      <td>13.334559</td>\n    </tr>\n    <tr>\n      <th>1395-1396</th>\n      <td>1133.476190</td>\n      <td>101134.815635</td>\n      <td>7.030953e+05</td>\n      <td>224.642540</td>\n      <td>14.381746</td>\n      <td>34.853968</td>\n      <td>42.060317</td>\n      <td>15.146032</td>\n      <td>66.179365</td>\n      <td>28.721429</td>\n      <td>54.506349</td>\n      <td>27.749206</td>\n      <td>2.372222</td>\n      <td>2.084921</td>\n      <td>1.142857</td>\n      <td>2.887302</td>\n    </tr>\n    <tr>\n      <th>1396-1397</th>\n      <td>1307.338983</td>\n      <td>189124.707689</td>\n      <td>1.538938e+06</td>\n      <td>246.284633</td>\n      <td>18.227684</td>\n      <td>33.775141</td>\n      <td>22.366102</td>\n      <td>17.586441</td>\n      <td>58.406780</td>\n      <td>36.701130</td>\n      <td>46.988136</td>\n      <td>68.633333</td>\n      <td>25.038418</td>\n      <td>2.048023</td>\n      <td>2.526554</td>\n      <td>2.588701</td>\n    </tr>\n    <tr>\n      <th>1397-1398</th>\n      <td>1263.959302</td>\n      <td>161314.551123</td>\n      <td>1.141634e+06</td>\n      <td>240.925872</td>\n      <td>26.222093</td>\n      <td>67.537209</td>\n      <td>81.513953</td>\n      <td>52.715116</td>\n      <td>56.225000</td>\n      <td>36.060465</td>\n      <td>92.025000</td>\n      <td>33.896512</td>\n      <td>9.556977</td>\n      <td>6.981977</td>\n      <td>2.034302</td>\n      <td>7.830814</td>\n    </tr>\n    <tr>\n      <th>1398-1399</th>\n      <td>1325.131737</td>\n      <td>159041.153718</td>\n      <td>1.103683e+06</td>\n      <td>252.810838</td>\n      <td>15.286228</td>\n      <td>45.401198</td>\n      <td>56.879042</td>\n      <td>49.695210</td>\n      <td>45.957485</td>\n      <td>61.827545</td>\n      <td>103.197006</td>\n      <td>47.454491</td>\n      <td>4.531737</td>\n      <td>8.743114</td>\n      <td>6.203593</td>\n      <td>7.572455</td>\n    </tr>\n    <tr>\n      <th>1399-1400</th>\n      <td>1286.534884</td>\n      <td>151870.451575</td>\n      <td>8.472217e+05</td>\n      <td>206.407442</td>\n      <td>10.085465</td>\n      <td>31.427907</td>\n      <td>63.780814</td>\n      <td>13.658140</td>\n      <td>35.004651</td>\n      <td>32.871512</td>\n      <td>21.495930</td>\n      <td>27.120349</td>\n      <td>3.472093</td>\n      <td>5.752907</td>\n      <td>9.076744</td>\n      <td>2.177326</td>\n    </tr>\n    <tr>\n      <th>1400-1401</th>\n      <td>1159.390374</td>\n      <td>111787.222839</td>\n      <td>6.043108e+05</td>\n      <td>176.005561</td>\n      <td>9.958824</td>\n      <td>37.057219</td>\n      <td>33.630481</td>\n      <td>41.888235</td>\n      <td>19.566845</td>\n      <td>33.594652</td>\n      <td>13.081283</td>\n      <td>29.698396</td>\n      <td>2.797861</td>\n      <td>1.794652</td>\n      <td>4.285561</td>\n      <td>1.816043</td>\n    </tr>\n    <tr>\n      <th>1401-1402</th>\n      <td>1156.000000</td>\n      <td>90108.210268</td>\n      <td>5.516890e+05</td>\n      <td>179.779333</td>\n      <td>8.528333</td>\n      <td>23.880556</td>\n      <td>21.261111</td>\n      <td>21.511667</td>\n      <td>39.002222</td>\n      <td>39.694167</td>\n      <td>45.453889</td>\n      <td>30.186111</td>\n      <td>13.605556</td>\n      <td>5.036667</td>\n      <td>2.442222</td>\n      <td>8.805556</td>\n    </tr>\n    <tr>\n      <th>1402-1403</th>\n      <td>1369.000000</td>\n      <td>50610.983314</td>\n      <td>2.155044e+05</td>\n      <td>188.820155</td>\n      <td>23.133333</td>\n      <td>23.146512</td>\n      <td>11.731783</td>\n      <td>11.795349</td>\n      <td>2.034884</td>\n      <td>0.976744</td>\n      <td>1.662791</td>\n      <td>0.817829</td>\n      <td>-0.144961</td>\n      <td>-0.914729</td>\n      <td>-0.918605</td>\n      <td>-0.930233</td>\n    </tr>\n    <tr>\n      <th>1403-1404</th>\n      <td>1764.166667</td>\n      <td>48.597894</td>\n      <td>3.473041e+01</td>\n      <td>368.000000</td>\n      <td>7.333333</td>\n      <td>56.500000</td>\n      <td>5.750000</td>\n      <td>-1.000000</td>\n      <td>-1.000000</td>\n      <td>-1.000000</td>\n      <td>-1.000000</td>\n      <td>-1.000000</td>\n      <td>-1.000000</td>\n      <td>-1.000000</td>\n      <td>-1.000000</td>\n      <td>-1.000000</td>\n    </tr>\n  </tbody>\n</table>\n</div>"
     },
     "execution_count": 61,
     "metadata": {},
     "output_type": "execute_result"
    }
   ],
   "source": [
    "custom_group_by('year', 'mean')"
   ],
   "metadata": {
    "collapsed": false,
    "ExecuteTime": {
     "end_time": "2024-01-20T23:48:06.565552090Z",
     "start_time": "2024-01-20T23:48:06.505305340Z"
    }
   },
   "id": "bbddb1ca19a994f1"
  },
  {
   "cell_type": "code",
   "execution_count": 62,
   "outputs": [
    {
     "data": {
      "text/plain": "Empty DataFrame\nColumns: [id, name, year, height, longitude, latitude, average, mehr, aban, azar, dey, bahman, esfand, farvardin, ordibehesht, khordad, tir, mordad, sharivar, site]\nIndex: []",
      "text/html": "<div>\n<style scoped>\n    .dataframe tbody tr th:only-of-type {\n        vertical-align: middle;\n    }\n\n    .dataframe tbody tr th {\n        vertical-align: top;\n    }\n\n    .dataframe thead th {\n        text-align: right;\n    }\n</style>\n<table border=\"1\" class=\"dataframe\">\n  <thead>\n    <tr style=\"text-align: right;\">\n      <th></th>\n      <th>id</th>\n      <th>name</th>\n      <th>year</th>\n      <th>height</th>\n      <th>longitude</th>\n      <th>latitude</th>\n      <th>average</th>\n      <th>mehr</th>\n      <th>aban</th>\n      <th>azar</th>\n      <th>dey</th>\n      <th>bahman</th>\n      <th>esfand</th>\n      <th>farvardin</th>\n      <th>ordibehesht</th>\n      <th>khordad</th>\n      <th>tir</th>\n      <th>mordad</th>\n      <th>sharivar</th>\n      <th>site</th>\n    </tr>\n  </thead>\n  <tbody>\n  </tbody>\n</table>\n</div>"
     },
     "execution_count": 62,
     "metadata": {},
     "output_type": "execute_result"
    }
   ],
   "source": [
    "# df.year.unique()\n",
    "df[df.year=='1402-1401']\n"
   ],
   "metadata": {
    "collapsed": false,
    "ExecuteTime": {
     "end_time": "2024-01-20T23:48:08.038713985Z",
     "start_time": "2024-01-20T23:48:07.992712968Z"
    }
   },
   "id": "6983f169b49e254"
  },
  {
   "cell_type": "code",
   "execution_count": null,
   "outputs": [],
   "source": [],
   "metadata": {
    "collapsed": false
   },
   "id": "663c265b864e53fb"
  }
 ],
 "metadata": {
  "kernelspec": {
   "display_name": "Python 3",
   "language": "python",
   "name": "python3"
  },
  "language_info": {
   "codemirror_mode": {
    "name": "ipython",
    "version": 2
   },
   "file_extension": ".py",
   "mimetype": "text/x-python",
   "name": "python",
   "nbconvert_exporter": "python",
   "pygments_lexer": "ipython2",
   "version": "2.7.6"
  }
 },
 "nbformat": 4,
 "nbformat_minor": 5
}
