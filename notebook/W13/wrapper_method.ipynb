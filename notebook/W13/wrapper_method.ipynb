{
 "cells": [
  {
   "cell_type": "code",
   "execution_count": 8,
   "id": "70283c1b-b72b-4879-abef-9d3a1338be2b",
   "metadata": {},
   "outputs": [],
   "source": [
    "# import all packages and libraries here.\n",
    "import numpy as np\n",
    "import pandas as pd\n",
    "import sklearn\n",
    "import matplotlib.pyplot as plt\n",
    "from sklearn.datasets import load_breast_cancer\n",
    "from sklearn.svm import LinearSVC\n",
    "from sklearn.discriminant_analysis import LinearDiscriminantAnalysis\n",
    "from sklearn import metrics, svm, linear_model , model_selection, preprocessing, pipeline, impute, compose,decomposition,datasets\n",
    "import itertools"
   ]
  },
  {
   "cell_type": "code",
   "execution_count": 20,
   "id": "92e39ece-72c6-4d24-bf9d-eecc4892c73b",
   "metadata": {},
   "outputs": [],
   "source": [
    "n_features= 5\n",
    "X,y = datasets.make_classification(n_samples=1000 ,n_features=n_features)\n",
    "X_train , X_test , y_train, y_test = model_selection.train_test_split(X, y, test_size=0.2, random_state=42)"
   ]
  },
  {
   "cell_type": "code",
   "execution_count": 54,
   "id": "f8a693b7-4f49-46b2-bb55-e84dfb3fef13",
   "metadata": {},
   "outputs": [],
   "source": [
    "\n",
    "\n",
    "def evaluation_features(X,y ,selected_feature=None,estimator =svm.LinearSVC(dual='auto'),cv=3 ):\n",
    "    if not selected_feature:\n",
    "        selected_feature = X.shape[1]\n",
    "    kf = model_selection.KFold(n_splits=cv)\n",
    "    accs = []\n",
    "    for train_index, validation_index in kf.split(X):\n",
    "        X_subset_train = X[train_nidex][:,selecte_feature]\n",
    "        X_subset_validation = X[validation_index]\n",
    "        \n",
    "        estimator.fit(X_subset_train, y[train_index])\n",
    "        y_pred = estimator.predict(X_subset_validation[:,selecte_feature])\n",
    "        acc = metrics.accuracy_score(y[validation_index], y_pred)\n",
    "        acca.append(acc)\n",
    "    return np.arrat(accs).mean()"
   ]
  },
  {
   "cell_type": "code",
   "execution_count": 55,
   "id": "696af278-296c-4d8a-b31a-f893f8c8ac1b",
   "metadata": {},
   "outputs": [
    {
     "ename": "NameError",
     "evalue": "name 'train_nidex' is not defined",
     "output_type": "error",
     "traceback": [
      "\u001b[0;31m---------------------------------------------------------------------------\u001b[0m",
      "\u001b[0;31mNameError\u001b[0m                                 Traceback (most recent call last)",
      "Cell \u001b[0;32mIn[55], line 5\u001b[0m\n\u001b[1;32m      2\u001b[0m selecte_feature \u001b[38;5;241m=\u001b[39m \u001b[38;5;28mset\u001b[39m()\n\u001b[1;32m      4\u001b[0m \u001b[38;5;28;01mfor\u001b[39;00m features \u001b[38;5;129;01min\u001b[39;00m itertools\u001b[38;5;241m.\u001b[39mcombinations(\u001b[38;5;28mrange\u001b[39m(n_features),\u001b[38;5;241m5\u001b[39m):\n\u001b[0;32m----> 5\u001b[0m     accuracy \u001b[38;5;241m=\u001b[39m \u001b[43mevaluation_features\u001b[49m\u001b[43m(\u001b[49m\u001b[43mX_train\u001b[49m\u001b[43m,\u001b[49m\u001b[43m \u001b[49m\u001b[43my_train\u001b[49m\u001b[43m,\u001b[49m\u001b[43m \u001b[49m\u001b[43mselected_feature\u001b[49m\u001b[38;5;241;43m=\u001b[39;49m\u001b[43mfeatures\u001b[49m\u001b[43m)\u001b[49m\n\u001b[1;32m      6\u001b[0m     \u001b[38;5;28mprint\u001b[39m(\u001b[38;5;124m'\u001b[39m\u001b[38;5;124mfeatures\u001b[39m\u001b[38;5;124m'\u001b[39m,features)\n\u001b[1;32m      7\u001b[0m     \u001b[38;5;28mprint\u001b[39m(\u001b[38;5;124m'\u001b[39m\u001b[38;5;124maccuracy\u001b[39m\u001b[38;5;124m'\u001b[39m, accuracy)\n",
      "Cell \u001b[0;32mIn[54], line 7\u001b[0m, in \u001b[0;36mevaluation_features\u001b[0;34m(X, y, selected_feature, estimator, cv)\u001b[0m\n\u001b[1;32m      5\u001b[0m accs \u001b[38;5;241m=\u001b[39m []\n\u001b[1;32m      6\u001b[0m \u001b[38;5;28;01mfor\u001b[39;00m train_index, validation_index \u001b[38;5;129;01min\u001b[39;00m kf\u001b[38;5;241m.\u001b[39msplit(X):\n\u001b[0;32m----> 7\u001b[0m     X_subset_train \u001b[38;5;241m=\u001b[39m X[\u001b[43mtrain_nidex\u001b[49m][:,selecte_feature]\n\u001b[1;32m      8\u001b[0m     X_subset_validation \u001b[38;5;241m=\u001b[39m X[validation_index]\n\u001b[1;32m     10\u001b[0m     estimator\u001b[38;5;241m.\u001b[39mfit(X_subset_train, y[train_index])\n",
      "\u001b[0;31mNameError\u001b[0m: name 'train_nidex' is not defined"
     ]
    }
   ],
   "source": [
    "max_acc = 0\n",
    "selecte_feature = set()\n",
    "\n",
    "for features in itertools.combinations(range(n_features),5):\n",
    "    accuracy = evaluation_features(X_train, y_train, selected_feature=features)\n",
    "    print('features',features)\n",
    "    print('accuracy', accuracy)\n",
    "\n",
    "    if accuracy > max_acc:\n",
    "        max_acc= accuracy\n",
    "        selecte_feature = features"
   ]
  },
  {
   "cell_type": "code",
   "execution_count": null,
   "id": "7367ccc4-796b-4664-8773-68e3e9c0c32f",
   "metadata": {},
   "outputs": [],
   "source": []
  },
  {
   "cell_type": "code",
   "execution_count": null,
   "id": "540f4901-cd38-4b71-bef5-ae297ba1343f",
   "metadata": {},
   "outputs": [],
   "source": []
  },
  {
   "cell_type": "code",
   "execution_count": null,
   "id": "37f426b7-8687-4b06-9fb8-3e16d56f613e",
   "metadata": {},
   "outputs": [],
   "source": []
  },
  {
   "cell_type": "code",
   "execution_count": null,
   "id": "7f184009-34cb-4f41-892b-b707f224e9c0",
   "metadata": {},
   "outputs": [],
   "source": []
  },
  {
   "cell_type": "code",
   "execution_count": 16,
   "id": "ea2eefab-6c67-4cf5-8291-f5f4bb7947e8",
   "metadata": {},
   "outputs": [
    {
     "name": "stdout",
     "output_type": "stream",
     "text": [
      "(0, 1, 2, 3)\n",
      "(0, 1, 2, 4)\n",
      "(0, 1, 3, 4)\n",
      "(0, 2, 3, 4)\n",
      "(1, 2, 3, 4)\n"
     ]
    }
   ],
   "source": [
    "for item in itertools.combinations(range(n_features),4):\n",
    "    print(item)\n"
   ]
  },
  {
   "cell_type": "code",
   "execution_count": 34,
   "id": "1826a312-f582-4711-b80e-ce3bcc26a596",
   "metadata": {},
   "outputs": [
    {
     "ename": "IndexError",
     "evalue": "index 5 is out of bounds for axis 1 with size 5",
     "output_type": "error",
     "traceback": [
      "\u001b[0;31m---------------------------------------------------------------------------\u001b[0m",
      "\u001b[0;31mIndexError\u001b[0m                                Traceback (most recent call last)",
      "Cell \u001b[0;32mIn[34], line 1\u001b[0m\n\u001b[0;32m----> 1\u001b[0m \u001b[43mX_train\u001b[49m\u001b[43m[\u001b[49m\u001b[43m(\u001b[49m\u001b[38;5;241;43m1\u001b[39;49m\u001b[43m,\u001b[49m\u001b[38;5;241;43m2\u001b[39;49m\u001b[43m,\u001b[49m\u001b[38;5;241;43m6\u001b[39;49m\u001b[43m)\u001b[49m\u001b[43m \u001b[49m\u001b[43m,\u001b[49m\u001b[43m \u001b[49m\u001b[43m(\u001b[49m\u001b[38;5;241;43m3\u001b[39;49m\u001b[43m,\u001b[49m\u001b[38;5;241;43m4\u001b[39;49m\u001b[43m,\u001b[49m\u001b[38;5;241;43m5\u001b[39;49m\u001b[43m)\u001b[49m\u001b[43m]\u001b[49m\n",
      "\u001b[0;31mIndexError\u001b[0m: index 5 is out of bounds for axis 1 with size 5"
     ]
    }
   ],
   "source": [
    "X_train[(1,2,6) , (3,4,5)]"
   ]
  },
  {
   "cell_type": "code",
   "execution_count": null,
   "id": "26335cae-7ee0-4702-82c9-5c45a9058d9f",
   "metadata": {},
   "outputs": [],
   "source": []
  },
  {
   "cell_type": "code",
   "execution_count": 39,
   "id": "14964196-153b-48c4-b788-7e89a8753101",
   "metadata": {},
   "outputs": [],
   "source": [
    "y = np.arange(35).reshape(5, 7)"
   ]
  },
  {
   "cell_type": "code",
   "execution_count": 40,
   "id": "7808fd1f-ac9b-441c-a1d0-959d36a9c78b",
   "metadata": {},
   "outputs": [
    {
     "data": {
      "text/plain": [
       "array([ 0, 15, 30])"
      ]
     },
     "execution_count": 40,
     "metadata": {},
     "output_type": "execute_result"
    }
   ],
   "source": [
    "y[np.array([0, 2, 4]), np.array([0, 1, 2])]"
   ]
  }
 ],
 "metadata": {
  "kernelspec": {
   "display_name": "Python 3 (ipykernel)",
   "language": "python",
   "name": "python3"
  },
  "language_info": {
   "codemirror_mode": {
    "name": "ipython",
    "version": 3
   },
   "file_extension": ".py",
   "mimetype": "text/x-python",
   "name": "python",
   "nbconvert_exporter": "python",
   "pygments_lexer": "ipython3",
   "version": "3.11.4"
  }
 },
 "nbformat": 4,
 "nbformat_minor": 5
}
