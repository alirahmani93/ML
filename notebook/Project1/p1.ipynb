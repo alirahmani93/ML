{
 "cells": [
  {
   "cell_type": "code",
   "execution_count": 1,
   "id": "6d56e4e8-e2cf-4d73-86c7-d9a4d487ab1d",
   "metadata": {},
   "outputs": [],
   "source": [
    "import pandas as pd \n",
    "import numpy as np\n",
    "import matplotlib.pyplot as plt"
   ]
  },
  {
   "cell_type": "code",
   "execution_count": 10,
   "id": "7462e876-e1d6-4e2a-bcb9-3c8550c941c2",
   "metadata": {},
   "outputs": [
    {
     "name": "stderr",
     "output_type": "stream",
     "text": [
      "/tmp/ipykernel_10619/2576279482.py:1: DtypeWarning: Columns (6) have mixed types. Specify dtype option on import or set low_memory=False.\n",
      "  raw_df = pd.read_csv('../../../../../Downloads/Datasets/Food_Establishment_Inspection_Data.csv')\n"
     ]
    }
   ],
   "source": [
    "raw_df = pd.read_csv('../../../../../Downloads/Datasets/Food_Establishment_Inspection_Data.csv')"
   ]
  },
  {
   "cell_type": "code",
   "execution_count": 5,
   "id": "5f83cd6a-5329-4084-8c23-7eadd0ab118f",
   "metadata": {},
   "outputs": [
    {
     "name": "stdout",
     "output_type": "stream",
     "text": [
      "<class 'pandas.core.frame.DataFrame'>\n",
      "RangeIndex: 255582 entries, 0 to 255581\n",
      "Data columns (total 22 columns):\n",
      " #   Column                      Non-Null Count   Dtype  \n",
      "---  ------                      --------------   -----  \n",
      " 0   Name                        255582 non-null  object \n",
      " 1   Program Identifier          255582 non-null  object \n",
      " 2   Inspection Date             254921 non-null  object \n",
      " 3   Description                 255582 non-null  object \n",
      " 4   Address                     255582 non-null  object \n",
      " 5   City                        255582 non-null  object \n",
      " 6   Zip Code                    255582 non-null  object \n",
      " 7   Phone                       184808 non-null  object \n",
      " 8   Longitude                   255179 non-null  float64\n",
      " 9   Latitude                    255179 non-null  float64\n",
      " 10  Inspection Business Name    254921 non-null  object \n",
      " 11  Inspection Type             254921 non-null  object \n",
      " 12  Inspection Score            254882 non-null  float64\n",
      " 13  Inspection Result           254921 non-null  object \n",
      " 14  Inspection Closed Business  254921 non-null  object \n",
      " 15  Violation Type              142330 non-null  object \n",
      " 16  Violation Description       142330 non-null  object \n",
      " 17  Violation Points            255582 non-null  int64  \n",
      " 18  Business_ID                 255582 non-null  object \n",
      " 19  Inspection_Serial_Num       254921 non-null  object \n",
      " 20  Violation_Record_ID         142330 non-null  object \n",
      " 21  Grade                       193630 non-null  float64\n",
      "dtypes: float64(4), int64(1), object(17)\n",
      "memory usage: 42.9+ MB\n"
     ]
    }
   ],
   "source": [
    "raw_df.info()"
   ]
  },
  {
   "cell_type": "code",
   "execution_count": 6,
   "id": "3717cb05-468a-42a8-8a47-432ee2c08c47",
   "metadata": {},
   "outputs": [
    {
     "data": {
      "text/html": [
       "<div>\n",
       "<style scoped>\n",
       "    .dataframe tbody tr th:only-of-type {\n",
       "        vertical-align: middle;\n",
       "    }\n",
       "\n",
       "    .dataframe tbody tr th {\n",
       "        vertical-align: top;\n",
       "    }\n",
       "\n",
       "    .dataframe thead th {\n",
       "        text-align: right;\n",
       "    }\n",
       "</style>\n",
       "<table border=\"1\" class=\"dataframe\">\n",
       "  <thead>\n",
       "    <tr style=\"text-align: right;\">\n",
       "      <th></th>\n",
       "      <th>Longitude</th>\n",
       "      <th>Latitude</th>\n",
       "      <th>Inspection Score</th>\n",
       "      <th>Violation Points</th>\n",
       "      <th>Grade</th>\n",
       "    </tr>\n",
       "  </thead>\n",
       "  <tbody>\n",
       "    <tr>\n",
       "      <th>count</th>\n",
       "      <td>255179.000000</td>\n",
       "      <td>255179.000000</td>\n",
       "      <td>254882.000000</td>\n",
       "      <td>255582.000000</td>\n",
       "      <td>193630.000000</td>\n",
       "    </tr>\n",
       "    <tr>\n",
       "      <th>mean</th>\n",
       "      <td>-122.197295</td>\n",
       "      <td>47.563608</td>\n",
       "      <td>14.094679</td>\n",
       "      <td>4.390485</td>\n",
       "      <td>1.418881</td>\n",
       "    </tr>\n",
       "    <tr>\n",
       "      <th>std</th>\n",
       "      <td>3.783447</td>\n",
       "      <td>0.128476</td>\n",
       "      <td>20.268395</td>\n",
       "      <td>6.105445</td>\n",
       "      <td>0.618843</td>\n",
       "    </tr>\n",
       "    <tr>\n",
       "      <th>min</th>\n",
       "      <td>-122.898939</td>\n",
       "      <td>47.043716</td>\n",
       "      <td>-2.000000</td>\n",
       "      <td>0.000000</td>\n",
       "      <td>1.000000</td>\n",
       "    </tr>\n",
       "    <tr>\n",
       "      <th>25%</th>\n",
       "      <td>-122.333585</td>\n",
       "      <td>47.479268</td>\n",
       "      <td>0.000000</td>\n",
       "      <td>0.000000</td>\n",
       "      <td>1.000000</td>\n",
       "    </tr>\n",
       "    <tr>\n",
       "      <th>50%</th>\n",
       "      <td>-122.299119</td>\n",
       "      <td>47.602468</td>\n",
       "      <td>5.000000</td>\n",
       "      <td>3.000000</td>\n",
       "      <td>1.000000</td>\n",
       "    </tr>\n",
       "    <tr>\n",
       "      <th>75%</th>\n",
       "      <td>-122.197717</td>\n",
       "      <td>47.661462</td>\n",
       "      <td>20.000000</td>\n",
       "      <td>5.000000</td>\n",
       "      <td>2.000000</td>\n",
       "    </tr>\n",
       "    <tr>\n",
       "      <th>max</th>\n",
       "      <td>122.384610</td>\n",
       "      <td>48.772284</td>\n",
       "      <td>180.000000</td>\n",
       "      <td>30.000000</td>\n",
       "      <td>4.000000</td>\n",
       "    </tr>\n",
       "  </tbody>\n",
       "</table>\n",
       "</div>"
      ],
      "text/plain": [
       "           Longitude       Latitude  Inspection Score  Violation Points  \\\n",
       "count  255179.000000  255179.000000     254882.000000     255582.000000   \n",
       "mean     -122.197295      47.563608         14.094679          4.390485   \n",
       "std         3.783447       0.128476         20.268395          6.105445   \n",
       "min      -122.898939      47.043716         -2.000000          0.000000   \n",
       "25%      -122.333585      47.479268          0.000000          0.000000   \n",
       "50%      -122.299119      47.602468          5.000000          3.000000   \n",
       "75%      -122.197717      47.661462         20.000000          5.000000   \n",
       "max       122.384610      48.772284        180.000000         30.000000   \n",
       "\n",
       "               Grade  \n",
       "count  193630.000000  \n",
       "mean        1.418881  \n",
       "std         0.618843  \n",
       "min         1.000000  \n",
       "25%         1.000000  \n",
       "50%         1.000000  \n",
       "75%         2.000000  \n",
       "max         4.000000  "
      ]
     },
     "execution_count": 6,
     "metadata": {},
     "output_type": "execute_result"
    }
   ],
   "source": [
    "raw_df.describe()"
   ]
  },
  {
   "cell_type": "code",
   "execution_count": 11,
   "id": "8d43014d-7a3e-4f38-ad90-d68018e1e00d",
   "metadata": {},
   "outputs": [],
   "source": [
    "df = raw_df.dropna()"
   ]
  },
  {
   "cell_type": "code",
   "execution_count": 14,
   "id": "30c474b0-56bf-468f-b41a-1e70a5d8046d",
   "metadata": {},
   "outputs": [
    {
     "name": "stdout",
     "output_type": "stream",
     "text": [
      "<class 'pandas.core.frame.DataFrame'>\n",
      "Index: 94087 entries, 0 to 255581\n",
      "Data columns (total 22 columns):\n",
      " #   Column                      Non-Null Count  Dtype  \n",
      "---  ------                      --------------  -----  \n",
      " 0   Name                        94087 non-null  object \n",
      " 1   Program Identifier          94087 non-null  object \n",
      " 2   Inspection Date             94087 non-null  object \n",
      " 3   Description                 94087 non-null  object \n",
      " 4   Address                     94087 non-null  object \n",
      " 5   City                        94087 non-null  object \n",
      " 6   Zip Code                    94087 non-null  object \n",
      " 7   Phone                       94087 non-null  object \n",
      " 8   Longitude                   94087 non-null  float64\n",
      " 9   Latitude                    94087 non-null  float64\n",
      " 10  Inspection Business Name    94087 non-null  object \n",
      " 11  Inspection Type             94087 non-null  object \n",
      " 12  Inspection Score            94087 non-null  float64\n",
      " 13  Inspection Result           94087 non-null  object \n",
      " 14  Inspection Closed Business  94087 non-null  object \n",
      " 15  Violation Type              94087 non-null  object \n",
      " 16  Violation Description       94087 non-null  object \n",
      " 17  Violation Points            94087 non-null  int64  \n",
      " 18  Business_ID                 94087 non-null  object \n",
      " 19  Inspection_Serial_Num       94087 non-null  object \n",
      " 20  Violation_Record_ID         94087 non-null  object \n",
      " 21  Grade                       94087 non-null  float64\n",
      "dtypes: float64(4), int64(1), object(17)\n",
      "memory usage: 16.5+ MB\n"
     ]
    },
    {
     "data": {
      "text/plain": [
       "(None,\n",
       "           Longitude      Latitude  Inspection Score  Violation Points  \\\n",
       " count  94087.000000  94087.000000      94087.000000      94087.000000   \n",
       " mean    -122.259032     47.579839         26.648825          7.910306   \n",
       " std        1.132134      0.120539         21.986992          6.386322   \n",
       " min     -122.463869     47.195276          0.000000          2.000000   \n",
       " 25%     -122.333396     47.526722         10.000000          5.000000   \n",
       " 50%     -122.307869     47.613187         20.000000          5.000000   \n",
       " 75%     -122.202739     47.663361         35.000000         10.000000   \n",
       " max      122.234570     47.777624        180.000000         30.000000   \n",
       " \n",
       "               Grade  \n",
       " count  94087.000000  \n",
       " mean       1.530190  \n",
       " std        0.666124  \n",
       " min        1.000000  \n",
       " 25%        1.000000  \n",
       " 50%        1.000000  \n",
       " 75%        2.000000  \n",
       " max        4.000000  )"
      ]
     },
     "execution_count": 14,
     "metadata": {},
     "output_type": "execute_result"
    }
   ],
   "source": [
    "df.info() , df.describe()"
   ]
  },
  {
   "cell_type": "code",
   "execution_count": null,
   "id": "5a0ef1af-9758-4221-bb8e-2205cf8a2a9a",
   "metadata": {},
   "outputs": [],
   "source": []
  }
 ],
 "metadata": {
  "kernelspec": {
   "display_name": "Python 3 (ipykernel)",
   "language": "python",
   "name": "python3"
  },
  "language_info": {
   "codemirror_mode": {
    "name": "ipython",
    "version": 3
   },
   "file_extension": ".py",
   "mimetype": "text/x-python",
   "name": "python",
   "nbconvert_exporter": "python",
   "pygments_lexer": "ipython3",
   "version": "3.11.4"
  }
 },
 "nbformat": 4,
 "nbformat_minor": 5
}
