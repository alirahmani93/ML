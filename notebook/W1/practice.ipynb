{
 "cells": [
  {
   "cell_type": "markdown",
   "id": "d921b063-9034-4f7f-ad64-064ee8814f19",
   "metadata": {},
   "source": [
    "# page 115"
   ]
  },
  {
   "cell_type": "markdown",
   "id": "1e5b314c-9b07-4be0-9530-9fef2a01fa74",
   "metadata": {},
   "source": [
    "## EXERCISES 4"
   ]
  },
  {
   "cell_type": "markdown",
   "id": "52c16a35-5db0-4f80-98e6-adc27f1acee8",
   "metadata": {},
   "source": [
    "4. Write a program that uses a dictionary that contains ten user names and passwords. The program should ask the user to enter their username and password. If the username is not in the dictionary, the program should indicate that the person is not a valid user of the system. If the username is in the dictionary, but the user does not enter the right password, the program should say that the password is invalid. If the password is correct, then the program should tell the user that they are now logged in to the system."
   ]
  },
  {
   "cell_type": "code",
   "execution_count": 23,
   "id": "028a48bb-ddbd-4762-8d12-b1c949055344",
   "metadata": {},
   "outputs": [],
   "source": [
    "def check_user(username: str):\n",
    "    user_password = user_dataset.get(username)\n",
    "    if user_password is None:\n",
    "        return None\n",
    "    return user_password"
   ]
  },
  {
   "cell_type": "code",
   "execution_count": 32,
   "id": "8270a072-1492-41b8-89fb-539d7aa79d4d",
   "metadata": {},
   "outputs": [],
   "source": [
    "def check_password(user_password, inpute_password: str):\n",
    "    return user_password == password"
   ]
  },
  {
   "cell_type": "code",
   "execution_count": 35,
   "id": "2ba469cc-f025-4378-80d7-366ef47ee070",
   "metadata": {},
   "outputs": [],
   "source": [
    "def login(username: str, inpute_password: str):\n",
    "    password = check_user(username=username)\n",
    "    if password is None:\n",
    "        return \"User not found.\"\n",
    "    return \"Login\" if check_password(user_password=password, inpute_password=raw_password) else \"Wrong Password\"\n"
   ]
  },
  {
   "cell_type": "code",
   "execution_count": 36,
   "id": "335f5ad4-6840-47c5-8587-5d8f4693e5b7",
   "metadata": {},
   "outputs": [
    {
     "data": {
      "text/plain": [
       "'Wrong Password'"
      ]
     },
     "execution_count": 36,
     "metadata": {},
     "output_type": "execute_result"
    }
   ],
   "source": [
    "user_dataset = {\"username\": \"123456\", \"ali\": \"rahmani\"}\n",
    "username, raw_password = \"username\", \"password\"\n",
    "login(username=username,inpute_password=raw_password)"
   ]
  },
  {
   "cell_type": "markdown",
   "id": "8f9e1c4c-fc6d-4646-be6d-fd8f739d811a",
   "metadata": {},
   "source": [
    "## EXERCISES 7"
   ]
  },
  {
   "cell_type": "markdown",
   "id": "3e1930a8-dc7c-4296-b448-8ee67fabdf1f",
   "metadata": {},
   "source": [
    "7. Create a 5 × 5 list of numbers. Then write a program that creates a dictionary whose keys are the numbers and whose values are the how many times the number occurs. Then print the three most common numbers."
   ]
  },
  {
   "cell_type": "code",
   "execution_count": 42,
   "id": "315ddafd-e741-480a-8789-16b987cfd4eb",
   "metadata": {},
   "outputs": [],
   "source": [
    "import random"
   ]
  },
  {
   "cell_type": "code",
   "execution_count": 65,
   "id": "608dd7b8-b92b-42a9-a14f-2a9eaef40e0d",
   "metadata": {},
   "outputs": [
    {
     "data": {
      "text/plain": [
       "[6, 2, 3, 9, 0, 1, 8, 1, 7, 6, 6, 6, 5, 5, 4, 5, 2, 0, 5, 6, 6, 8, 5, 0, 1, 8]"
      ]
     },
     "execution_count": 65,
     "metadata": {},
     "output_type": "execute_result"
    }
   ],
   "source": [
    "nums=[ random.randrange(10) for i in range(26)]\n",
    "nums"
   ]
  },
  {
   "cell_type": "code",
   "execution_count": 66,
   "id": "5a093c20-a018-4b93-878f-2890a210153a",
   "metadata": {},
   "outputs": [
    {
     "data": {
      "text/plain": [
       "{0: 3, 1: 3, 2: 2, 3: 1, 4: 1, 5: 5, 6: 6, 7: 1, 8: 3, 9: 1}"
      ]
     },
     "execution_count": 66,
     "metadata": {},
     "output_type": "execute_result"
    }
   ],
   "source": [
    "result ={ i:nums.count(i) for i in set(nums)}\n",
    "result"
   ]
  },
  {
   "cell_type": "code",
   "execution_count": 69,
   "id": "8638abf1-b39f-496a-9648-421c581f0a5e",
   "metadata": {},
   "outputs": [
    {
     "data": {
      "text/plain": [
       "[6, 5, 0]"
      ]
     },
     "execution_count": 69,
     "metadata": {},
     "output_type": "execute_result"
    }
   ],
   "source": [
    "sorted(result,key=result.get, reverse=True)[:3]"
   ]
  },
  {
   "cell_type": "code",
   "execution_count": 70,
   "id": "67034693-00e6-49b6-a5f0-81120c1f06e9",
   "metadata": {},
   "outputs": [],
   "source": [
    "## "
   ]
  },
  {
   "cell_type": "markdown",
   "id": "50e8dfb2-4402-455d-ab06-3a42eeb75282",
   "metadata": {},
   "source": [
    "13. Suppose you are given the following list of strings:\n",
    "L = [ 'aabaabac ', 'cabaabca ', 'aaabbcba ', 'aabacbab ', 'acababba ']\n",
    "Patterns like this show up in many places, including DNA sequencing. The user has a string of their own with only some letters filled in and the rest as asterisks. An example is a**a****. The user would like to know which of the strings in the list fit with their pattern. In the example just given, the matching strings are the first and fourth. One way to solve this problem is to create a dictionary whose keys are the indices in the user’s string of the non-asterisk characters and whose values are those characters. Write a program implementing this"
   ]
  },
  {
   "cell_type": "code",
   "execution_count": 72,
   "id": "5a814ff4-a9c1-4810-aa6c-d115dedbe74f",
   "metadata": {},
   "outputs": [],
   "source": [
    "L, gen = [ 'aabaabac ', 'cabaabca ', 'aaabbcba ', 'aabacbab ', 'acababba '], 'a**a****'"
   ]
  },
  {
   "cell_type": "code",
   "execution_count": 74,
   "id": "ef413971-0950-44ae-af8b-468210e27d8f",
   "metadata": {},
   "outputs": [
    {
     "data": {
      "text/plain": [
       "[0, 3]"
      ]
     },
     "execution_count": 74,
     "metadata": {},
     "output_type": "execute_result"
    }
   ],
   "source": [
    "x=[]\n",
    "for k,v in enumerate(gen):\n",
    "    if v !='*':\n",
    "        x.append(k)\n",
    "x"
   ]
  },
  {
   "cell_type": "code",
   "execution_count": 94,
   "id": "f4db56ac-f9f9-4a4f-babc-eab983912e09",
   "metadata": {},
   "outputs": [
    {
     "data": {
      "text/plain": [
       "[True, False, False, True, False]"
      ]
     },
     "execution_count": 94,
     "metadata": {},
     "output_type": "execute_result"
    }
   ],
   "source": [
    "def myFunc(s):\n",
    "    r=[]\n",
    "    for i in x:\n",
    "        if s[i] == gen[0]:\n",
    "            r.append(True)\n",
    "            continue\n",
    "        r.append(False)\n",
    "    return all(r)\n",
    "list(map(myFunc, L))"
   ]
  },
  {
   "cell_type": "markdown",
   "id": "b7016279-646e-403e-92cd-e0ed449ac776",
   "metadata": {},
   "source": [
    "## Excercise 14"
   ]
  },
  {
   "cell_type": "markdown",
   "id": "ae8e2eb9-63b9-4932-8614-c37320ad6be0",
   "metadata": {},
   "source": [
    "14. Dictionaries provide a convenient way to store structured data. Here is an example dictionary:\n",
    "d=[{ 'name ': 'Todd ', 'phone ': '555-1414 ', 'email ': 'todd@mail.net '},\n",
    "{ 'name ': 'Helga ', 'phone ': '555-1618 ', 'email ': 'helga@mail.net '},\n",
    "{ 'name ': 'Princess ', 'phone ': '555-3141 ', 'email ': ''},\n",
    "{ 'name ': 'LJ ', 'phone ': '555-2718 ', 'email ': 'lj@mail.net '}]\n",
    "Write a program that reads through any dictionary like this and prints the following:\n",
    "(a) All the users whose phone number ends in an 8\n",
    "(b) All the users that don’t have an email address listed"
   ]
  },
  {
   "cell_type": "code",
   "execution_count": 96,
   "id": "8ef8f492-1499-4139-8143-5aec94b8deee",
   "metadata": {},
   "outputs": [],
   "source": [
    "d=[{ 'name ': 'Todd ', 'phone ': '555-1414 ', 'email ': 'todd@mail.net '},\n",
    "{ 'name ': 'Helga ', 'phone ': '555-1618 ', 'email ': 'helga@mail.net '},\n",
    "{ 'name ': 'Princess ', 'phone ': '555-3141 ', 'email ': ''},\n",
    "{ 'name ': 'LJ ', 'phone ': '555-2718 ', 'email ': 'lj@mail.net '}]\n"
   ]
  },
  {
   "cell_type": "code",
   "execution_count": 123,
   "id": "0d74261d-fae7-4255-be76-fa96759c0461",
   "metadata": {},
   "outputs": [
    {
     "data": {
      "text/plain": [
       "[{'name': 'Todd', 'phone': '555-1414', 'email': 'todd@mail.net'},\n",
       " {'name': 'Helga', 'phone': '555-1618', 'email': 'helga@mail.net'},\n",
       " {'name': 'Princess', 'phone': '555-3141', 'email': ''},\n",
       " {'name': 'LJ', 'phone': '555-2718', 'email': 'lj@mail.net'}]"
      ]
     },
     "execution_count": 123,
     "metadata": {},
     "output_type": "execute_result"
    }
   ],
   "source": [
    "def clean_data(x:dict):\n",
    "    return { k.rstrip():v.rstrip() for k,v in x.items()}\n",
    "clean_d = list(map(clean_data,d))\n",
    "clean_d"
   ]
  },
  {
   "cell_type": "code",
   "execution_count": 124,
   "id": "e005bd88-6c31-4bd4-a979-4eff0f602c5f",
   "metadata": {},
   "outputs": [
    {
     "data": {
      "text/plain": [
       "[{'name': 'Helga', 'phone': '555-1618', 'email': 'helga@mail.net'},\n",
       " {'name': 'LJ', 'phone': '555-2718', 'email': 'lj@mail.net'}]"
      ]
     },
     "execution_count": 124,
     "metadata": {},
     "output_type": "execute_result"
    }
   ],
   "source": [
    "def find_endwith_8():\n",
    "    r=[]\n",
    "    for i in clean_d:\n",
    "        phone:str =i.get('phone')\n",
    "        if phone:\n",
    "            if phone.endswith('8'):\n",
    "                r.append(i)\n",
    "    return r\n",
    "find_endwith_8()"
   ]
  },
  {
   "cell_type": "code",
   "execution_count": 133,
   "id": "852dba0c-4440-4aab-9460-55813ba33280",
   "metadata": {},
   "outputs": [
    {
     "data": {
      "text/plain": [
       "[{'name': 'Princess', 'phone': '555-3141', 'email': ''}]"
      ]
     },
     "execution_count": 133,
     "metadata": {},
     "output_type": "execute_result"
    }
   ],
   "source": [
    "def find_null_email():\n",
    "    r=[]\n",
    "    for i in clean_d:\n",
    "        if not i.get('email'):\n",
    "           r.append(i)\n",
    "    return r\n",
    "find_null_email()"
   ]
  },
  {
   "cell_type": "markdown",
   "id": "379bf06c-fdaa-4d06-be67-c65bef0fc2e3",
   "metadata": {},
   "source": [
    "# Page 126"
   ]
  },
  {
   "cell_type": "markdown",
   "id": "a2947571-3fd2-406e-94fe-8c5b231a8166",
   "metadata": {},
   "source": [
    "## EXERCISES 7"
   ]
  },
  {
   "cell_type": "code",
   "execution_count": 143,
   "id": "7e490919-919a-423f-8764-a4e0ca58e16b",
   "metadata": {},
   "outputs": [
    {
     "data": {
      "text/plain": [
       "True"
      ]
     },
     "execution_count": 143,
     "metadata": {},
     "output_type": "execute_result"
    }
   ],
   "source": [
    "game_words = ['a','b','cd','ab']\n",
    "new = \"a\"\n",
    "any(map(lambda x:x in game_words, new))"
   ]
  },
  {
   "cell_type": "markdown",
   "id": "53a90ac4-43e7-49d8-882a-50ea57a22099",
   "metadata": {},
   "source": [
    "## EXERCISES 17"
   ]
  },
  {
   "cell_type": "code",
   "execution_count": 186,
   "id": "b9f1c29c-cee2-416a-a09b-39a2614d3209",
   "metadata": {},
   "outputs": [],
   "source": [
    "wordlist = ['salam','ali','hastam','hello','world','newpythonprogramerthisnakeistoolong']"
   ]
  },
  {
   "cell_type": "code",
   "execution_count": 146,
   "id": "5126d5e2-d44b-4d16-81a6-ea568d075f0b",
   "metadata": {},
   "outputs": [],
   "source": [
    "alphabet = 'qwertyuiopasdfghjklzxcvbnm'"
   ]
  },
  {
   "cell_type": "code",
   "execution_count": 189,
   "id": "cd7b4e2a-e096-4620-9eb7-d59cc6fe2d3c",
   "metadata": {},
   "outputs": [
    {
     "data": {
      "text/plain": [
       "0.6666666666666666"
      ]
     },
     "execution_count": 189,
     "metadata": {},
     "output_type": "execute_result"
    }
   ],
   "source": [
    "def counter(l):\n",
    "    r=0\n",
    "    for word in wordlist:\n",
    "        if l in word:\n",
    "            r+=1\n",
    "    return r/len(wordlist)\n",
    "counter(\"a\")"
   ]
  },
  {
   "cell_type": "code",
   "execution_count": 191,
   "id": "143302ae-246a-4135-b3ca-15020217f51b",
   "metadata": {},
   "outputs": [
    {
     "data": {
      "text/plain": [
       "{'q': 0.0,\n",
       " 'w': 0.3333333333333333,\n",
       " 'e': 0.3333333333333333,\n",
       " 'r': 0.3333333333333333,\n",
       " 't': 0.3333333333333333,\n",
       " 'y': 0.16666666666666666,\n",
       " 'u': 0.0,\n",
       " 'i': 0.3333333333333333,\n",
       " 'o': 0.5,\n",
       " 'p': 0.16666666666666666,\n",
       " 'a': 0.6666666666666666,\n",
       " 's': 0.5,\n",
       " 'd': 0.16666666666666666,\n",
       " 'f': 0.0,\n",
       " 'g': 0.16666666666666666,\n",
       " 'h': 0.5,\n",
       " 'j': 0.0,\n",
       " 'k': 0.16666666666666666,\n",
       " 'l': 0.8333333333333334,\n",
       " 'z': 0.0,\n",
       " 'x': 0.0,\n",
       " 'c': 0.0,\n",
       " 'v': 0.0,\n",
       " 'b': 0.0,\n",
       " 'n': 0.16666666666666666,\n",
       " 'm': 0.5}"
      ]
     },
     "execution_count": 191,
     "metadata": {},
     "output_type": "execute_result"
    }
   ],
   "source": [
    "letter_dict = {l:counter(l) for l in alphabet }\n",
    "letter_dict"
   ]
  },
  {
   "cell_type": "markdown",
   "id": "51233c50-9d47-444e-bf4e-4a65b92a7185",
   "metadata": {},
   "source": [
    "## EXERCISES 18"
   ]
  },
  {
   "cell_type": "markdown",
   "id": "011fe414-d29a-48d7-8991-89bd747955a7",
   "metadata": {},
   "source": [
    "18. Using the wordlist, produce a dictionary whose keys are the letters a through z and whose\n",
    "values are the percentage of total letters in the wordlist that are that letter."
   ]
  },
  {
   "cell_type": "code",
   "execution_count": 184,
   "id": "72d1eb8d-a9db-4c3d-b617-ba995c4638f9",
   "metadata": {},
   "outputs": [],
   "source": [
    "wordlistjoin=''.join(wordlist)"
   ]
  },
  {
   "cell_type": "code",
   "execution_count": 185,
   "id": "92c546bc-cb09-48b9-bcab-e3fbb96e258d",
   "metadata": {},
   "outputs": [
    {
     "data": {
      "text/plain": [
       "{'q': 0.0,\n",
       " 'w': 0.03389830508474576,\n",
       " 'e': 0.06779661016949153,\n",
       " 'r': 0.06779661016949153,\n",
       " 't': 0.06779661016949153,\n",
       " 'y': 0.01694915254237288,\n",
       " 'u': 0.0,\n",
       " 'i': 0.05084745762711865,\n",
       " 'o': 0.11864406779661017,\n",
       " 'p': 0.03389830508474576,\n",
       " 'a': 0.11864406779661017,\n",
       " 's': 0.06779661016949153,\n",
       " 'd': 0.01694915254237288,\n",
       " 'f': 0.0,\n",
       " 'g': 0.03389830508474576,\n",
       " 'h': 0.06779661016949153,\n",
       " 'j': 0.0,\n",
       " 'k': 0.01694915254237288,\n",
       " 'l': 0.1016949152542373,\n",
       " 'z': 0.0,\n",
       " 'x': 0.0,\n",
       " 'c': 0.0,\n",
       " 'v': 0.0,\n",
       " 'b': 0.0,\n",
       " 'n': 0.06779661016949153,\n",
       " 'm': 0.05084745762711865}"
      ]
     },
     "execution_count": 185,
     "metadata": {},
     "output_type": "execute_result"
    }
   ],
   "source": [
    "letter_dict = {l:wordlistjoin.count(l)/len(wordlist) for l in alphabet }\n",
    "letter_dict"
   ]
  },
  {
   "cell_type": "code",
   "execution_count": null,
   "id": "8a27fc51-e7b7-457c-b8d8-d344ad115615",
   "metadata": {},
   "outputs": [],
   "source": []
  }
 ],
 "metadata": {
  "kernelspec": {
   "display_name": "Python 3 (ipykernel)",
   "language": "python",
   "name": "python3"
  },
  "language_info": {
   "codemirror_mode": {
    "name": "ipython",
    "version": 3
   },
   "file_extension": ".py",
   "mimetype": "text/x-python",
   "name": "python",
   "nbconvert_exporter": "python",
   "pygments_lexer": "ipython3",
   "version": "3.11.4"
  }
 },
 "nbformat": 4,
 "nbformat_minor": 5
}
