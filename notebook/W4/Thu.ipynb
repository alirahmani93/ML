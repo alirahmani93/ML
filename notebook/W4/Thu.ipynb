{
 "cells": [
  {
   "cell_type": "raw",
   "id": "6e664d94-3309-4f09-b610-f1f3b0f5f5b5",
   "metadata": {},
   "source": [
    "Usefull for Exploring Binary and Cat Data\n",
    "\n",
    "Mode\n",
    "Expected value\n",
    "bar charts\n",
    "pie chart"
   ]
  },
  {
   "cell_type": "raw",
   "id": "d0b876dd-b240-4581-9bf9-37b8b55f9332",
   "metadata": {},
   "source": [
    "Pearson  correlation \n"
   ]
  },
  {
   "cell_type": "raw",
   "id": "8bff96c1-06a2-469d-8077-4fff0faf79fa",
   "metadata": {},
   "source": [
    "استفلال اماری \n",
    "احتمال رخ داد یکی به دیگری ربطی ندارد"
   ]
  },
  {
   "cell_type": "raw",
   "id": "3c23c68e-b833-4164-9610-a5b25561b5b1",
   "metadata": {},
   "source": [
    "اگر دیتا ها مستقل باشد کورلیشین صفر است ولی برعکسش صادق نیست "
   ]
  },
  {
   "cell_type": "raw",
   "id": "f6693434-f210-47ad-8a3f-04d64c0e232d",
   "metadata": {},
   "source": [
    "I(x1,Y)\n",
    "اینفورمیشن فچیر با تارگت یعنی فیچر چقدر در مورد تارگت اطلاعات میدهد\n",
    "I(x1x2 , Y) >= I(x1,Y) + I(x2,Y)"
   ]
  },
  {
   "cell_type": "raw",
   "id": "102c05f8-d07e-45a5-b17a-ac62b329b0dc",
   "metadata": {},
   "source": [
    "کتاب احتمال سعید قهرمانی\n",
    "کتاب احتمال شلدون راست"
   ]
  },
  {
   "cell_type": "raw",
   "id": "6c93327b-9bf3-4a23-b892-8b648f71f2d3",
   "metadata": {},
   "source": [
    "گاهی پیش می آید که یکی از فیچر ها رابطه خطی با تارگت نداشته باشد و کورلیشن آن پایین باشد. چون ممکن است مثلا سینوسی باشد یا مرتبه بالاتر از یک "
   ]
  },
  {
   "cell_type": "raw",
   "id": "4ec3886b-8cd5-4e98-b0cd-ce8b887675a3",
   "metadata": {},
   "source": []
  },
  {
   "cell_type": "raw",
   "id": "6b03d2d9-70fe-4579-929b-6190df129c49",
   "metadata": {},
   "source": []
  },
  {
   "cell_type": "raw",
   "id": "959ede77-a221-4cd7-ad76-7b7d81352eab",
   "metadata": {},
   "source": []
  }
 ],
 "metadata": {
  "kernelspec": {
   "display_name": "Python 3 (ipykernel)",
   "language": "python",
   "name": "python3"
  },
  "language_info": {
   "codemirror_mode": {
    "name": "ipython",
    "version": 3
   },
   "file_extension": ".py",
   "mimetype": "text/x-python",
   "name": "python",
   "nbconvert_exporter": "python",
   "pygments_lexer": "ipython3",
   "version": "3.11.4"
  }
 },
 "nbformat": 4,
 "nbformat_minor": 5
}
