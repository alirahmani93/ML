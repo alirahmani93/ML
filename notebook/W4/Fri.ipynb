{
 "cells": [
  {
   "cell_type": "raw",
   "id": "df2b80e9-6301-4d4d-8055-7ba1eef6be8c",
   "metadata": {},
   "source": [
    "plotly : library for amazing plots "
   ]
  },
  {
   "cell_type": "raw",
   "id": "97d346dd-26ba-4746-9e96-a304ca746a30",
   "metadata": {},
   "source": [
    "facet: sns.catplot\n",
    "Hue plot for Categorical Data"
   ]
  },
  {
   "cell_type": "raw",
   "id": "40dc3a75-c75e-470b-9051-150270dc9280",
   "metadata": {},
   "source": [
    "تابع چگالی\n",
    "f(z,x)\n",
    "توزیع تجمعی: احتمال اینکه همه داده کوچیک تر از زد باشد"
   ]
  },
  {
   "cell_type": "raw",
   "id": "d77be659-e91e-459b-bfff-21dbb2d9b105",
   "metadata": {},
   "source": [
    "تابع تجمعی مشتق بگیریم تابع چگالی بدست میاد \n"
   ]
  },
  {
   "cell_type": "raw",
   "id": "9588f5dd-80be-4fed-930d-45b9852687c3",
   "metadata": {},
   "source": []
  },
  {
   "cell_type": "raw",
   "id": "d6e0f380-4730-4ff4-a871-b6ab383dd57a",
   "metadata": {},
   "source": []
  },
  {
   "cell_type": "raw",
   "id": "25afec95-a365-44a4-a2c1-c0cfd7a2ce7a",
   "metadata": {},
   "source": []
  },
  {
   "cell_type": "raw",
   "id": "5d1ee87c-3df5-4277-bcef-c19a53e92d89",
   "metadata": {},
   "source": []
  },
  {
   "cell_type": "raw",
   "id": "a6f4d40c-0864-439b-8683-11d0c1dcea9f",
   "metadata": {},
   "source": []
  },
  {
   "cell_type": "raw",
   "id": "22309b50-be72-4846-b46c-a70614394e65",
   "metadata": {},
   "source": []
  },
  {
   "cell_type": "raw",
   "id": "d85dfa80-2036-40cc-a137-d6771e92f9d6",
   "metadata": {},
   "source": []
  },
  {
   "cell_type": "raw",
   "id": "6477fe27-3d80-4d65-abc5-f1c177410772",
   "metadata": {},
   "source": []
  },
  {
   "cell_type": "raw",
   "id": "699f3c87-e879-47d1-bb06-e5d310c789fd",
   "metadata": {},
   "source": []
  },
  {
   "cell_type": "raw",
   "id": "8670245a-915e-4cc9-aa5b-b4bc96679894",
   "metadata": {},
   "source": []
  }
 ],
 "metadata": {
  "kernelspec": {
   "display_name": "Python 3 (ipykernel)",
   "language": "python",
   "name": "python3"
  },
  "language_info": {
   "codemirror_mode": {
    "name": "ipython",
    "version": 3
   },
   "file_extension": ".py",
   "mimetype": "text/x-python",
   "name": "python",
   "nbconvert_exporter": "python",
   "pygments_lexer": "ipython3",
   "version": "3.11.4"
  }
 },
 "nbformat": 4,
 "nbformat_minor": 5
}
