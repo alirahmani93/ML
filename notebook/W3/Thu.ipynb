{
 "cells": [
  {
   "cell_type": "markdown",
   "id": "11fed615-56bd-4d2c-807e-cff182ba8be5",
   "metadata": {},
   "source": [
    "تخمین گر Max Likelihood با نگاه فروانی frequentestic\n",
    "تخمین گر MAP بانگاه بیزین\n",
    "\n",
    "تحمین گر چیست؟ چون کل جامعه رو ندارم از روی تعدادی نمونه میخوایم نظری در مورد کل جامعه بدهیم .. از جز به کل \n",
    "هر جا بخوایم از حز به کل بریم علم آمار میاد \n"
   ]
  },
  {
   "cell_type": "markdown",
   "id": "e1107d56-7e4e-4414-b678-8bba1284a29d",
   "metadata": {},
   "source": [
    "مثلا میانگین و واریانس دو نوع تخمین گر هستند\n",
    "S^2 = Sum(xi - Xbar)^2 / (n -1)"
   ]
  },
  {
   "cell_type": "markdown",
   "id": "a33fbe6c-a933-456a-a577-70e7bcb673a0",
   "metadata": {},
   "source": [
    "Max Likelihood:\n",
    "اگر تعداد سمپل به من بدهی پارامتر های توزیع رو تخمین میزند.\n",
    "\n",
    "تخمین پارامتر جامعه (تتا) با فرض مشاهده یک تعداد نمونه "
   ]
  },
  {
   "cell_type": "code",
   "execution_count": 2,
   "id": "7a791107-5340-46be-a389-5eaf51530206",
   "metadata": {},
   "outputs": [],
   "source": [
    "import numpy as np \n"
   ]
  },
  {
   "cell_type": "code",
   "execution_count": 17,
   "id": "41b1b24c-62f1-4d0f-ad17-789f87192f60",
   "metadata": {},
   "outputs": [
    {
     "data": {
      "text/plain": [
       "3"
      ]
     },
     "execution_count": 17,
     "metadata": {},
     "output_type": "execute_result"
    }
   ],
   "source": [
    "x=np.array(\n",
    "    [\n",
    "        [[1],[2]]\n",
    "    ]\n",
    "          )\n",
    "x.ndim"
   ]
  },
  {
   "cell_type": "code",
   "execution_count": 44,
   "id": "4d15d478-a84d-45f2-a36c-2d1ba954e623",
   "metadata": {},
   "outputs": [
    {
     "name": "stdout",
     "output_type": "stream",
     "text": [
      "239 ns ± 7.75 ns per loop (mean ± std. dev. of 7 runs, 1,000 loops each)\n"
     ]
    }
   ],
   "source": [
    "%timeit -n 1000 x[0,1]"
   ]
  },
  {
   "cell_type": "code",
   "execution_count": 45,
   "id": "bb46d51f-8275-479f-a063-a891dc81eb7a",
   "metadata": {},
   "outputs": [
    {
     "name": "stdout",
     "output_type": "stream",
     "text": [
      "871 ns ± 189 ns per loop (mean ± std. dev. of 7 runs, 1,000 loops each)\n"
     ]
    }
   ],
   "source": [
    "%timeit -n 1000 x[0][1]"
   ]
  },
  {
   "cell_type": "code",
   "execution_count": 48,
   "id": "4339bb3c-3273-4469-841f-30ccc2750092",
   "metadata": {},
   "outputs": [
    {
     "data": {
      "text/plain": [
       "array([[1., 1., 1., 1., 1.],\n",
       "       [1., 1., 1., 1., 1.],\n",
       "       [1., 1., 1., 1., 1.],\n",
       "       [1., 1., 1., 1., 1.],\n",
       "       [1., 1., 1., 1., 1.]])"
      ]
     },
     "execution_count": 48,
     "metadata": {},
     "output_type": "execute_result"
    }
   ],
   "source": [
    "arr = np.ones((5,5))\n",
    "arr"
   ]
  },
  {
   "cell_type": "raw",
   "id": "90476248-defe-41e6-a308-4c0e33107d31",
   "metadata": {},
   "source": [
    "arr[arr]"
   ]
  },
  {
   "cell_type": "code",
   "execution_count": null,
   "id": "682620cc-067b-4bc1-a3c3-07dcc864d2e9",
   "metadata": {},
   "outputs": [],
   "source": []
  }
 ],
 "metadata": {
  "kernelspec": {
   "display_name": "Python 3 (ipykernel)",
   "language": "python",
   "name": "python3"
  },
  "language_info": {
   "codemirror_mode": {
    "name": "ipython",
    "version": 3
   },
   "file_extension": ".py",
   "mimetype": "text/x-python",
   "name": "python",
   "nbconvert_exporter": "python",
   "pygments_lexer": "ipython3",
   "version": "3.11.4"
  }
 },
 "nbformat": 4,
 "nbformat_minor": 5
}
